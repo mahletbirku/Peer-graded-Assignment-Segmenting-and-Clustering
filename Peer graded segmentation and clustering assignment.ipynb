{
    "cells": [
        {
            "metadata": {
                "collapsed": true
            },
            "cell_type": "markdown",
            "source": "# Peer-graded Assignment: Segmenting and Clustering Neighborhoods in Toronto "
        },
        {
            "metadata": {},
            "cell_type": "markdown",
            "source": "### Table of contents\n\n. Part 1\n\n. part 2\n\n. part 3 \n"
        },
        {
            "metadata": {},
            "cell_type": "markdown",
            "source": "# Part 1 "
        },
        {
            "metadata": {},
            "cell_type": "markdown",
            "source": "# Instructions: \n\n1. Start by creating a new Notebook for this assignment.\n\n2. Use the Notebook to build the code to scrape the following Wikipedia page, https://en.wikipedia.org/wiki/List_of_postal_codes_of_Canada:_M, in order to obtain the data that is in the table of postal codes and to transform the data into a pandas dataframe\n\n3. To create the above dataframe:\n    \n. The dataframe will consist of three columns: PostalCode, Borough, and Neighborhood\n    \n    \n. Only process the cells that have an assigned borough. Ignore cells with a borough that is Not assigned.\n\n\n. More than one neighborhood can exist in one postal code area. For example, in the table on the Wikipedia page, you will notice that M5A is listed twice and has two neighborhoods: Harbourfront and Regent Park. These two rows will be combined into one row with the neighborhoods separated with a comma as shown in row 11 in the above table.\n\n\n. If a cell has a borough but a Not assigned neighborhood, then the neighborhood will be the same as the borough.\n\n\n. Clean your Notebook and add Markdown cells to explain your work and any assumptions you are making.\n\n\n. In the last cell of your notebook, use the .shape method to print the number of rows of your dataframe.\n\n\n4. Submit a link to your Notebook on your Github repository. \n"
        },
        {
            "metadata": {},
            "cell_type": "markdown",
            "source": "### Start by Importing Tools  "
        },
        {
            "metadata": {},
            "cell_type": "code",
            "source": "# Import tools\n\nimport numpy as np # library to handle data in a vectorized manner\n\nimport pandas as pd\n\n#!conda install -c conda-forge geopy --yes\nfrom geopy.geocoders import Nominatim\n\nimport requests # library to handle requests\nfrom pandas.io.json import json_normalize # tranform JSON file into a pandas dataframe\n\nimport matplotlib.cm as cm\nimport matplotlib.colors as colors\n\nfrom sklearn.cluster import KMeans\n\n#!conda install -c conda-forge folium=0.5.0 --yes\nimport folium\n\nprint('Libraries imported.')   ",
            "execution_count": null,
            "outputs": []
        },
        {
            "metadata": {},
            "cell_type": "markdown",
            "source": "### Retrieve the Data "
        },
        {
            "metadata": {},
            "cell_type": "code",
            "source": "# Specify URL and identify page\nurl = 'https://en.wikipedia.org/wiki/List_of_postal_codes_of_Canada:_M'\n\n# Use Pandas to read HTML to return dataframe of dataframes\ndfs = pd.read_html(url)\n\n# First dataframe is the one I want.\ndf = dfs[0] ",
            "execution_count": 9,
            "outputs": []
        },
        {
            "metadata": {},
            "cell_type": "markdown",
            "source": "### Next, QC the Data  "
        },
        {
            "metadata": {},
            "cell_type": "code",
            "source": "# Remove \"Not assigned\" Boroughs\ndf = df[df.Borough != 'Not assigned'] ",
            "execution_count": 10,
            "outputs": []
        },
        {
            "metadata": {},
            "cell_type": "code",
            "source": "# Check for additional \"Not assigned\" Neighborhoods; switch to US English spelling\nprint('\"Not assigned\" Neighborhoods:', df.loc[df['Neighbourhood'] == 'Not assigned'])\n\ndf.rename(columns={'Neighbourhood': 'Neighborhood'}, inplace=True) ",
            "execution_count": 11,
            "outputs": [
                {
                    "output_type": "stream",
                    "text": "\"Not assigned\" Neighborhoods: Empty DataFrame\nColumns: [Postal Code, Borough, Neighbourhood]\nIndex: []\n",
                    "name": "stdout"
                },
                {
                    "output_type": "stream",
                    "text": "/opt/conda/envs/Python36/lib/python3.6/site-packages/pandas/core/frame.py:4025: SettingWithCopyWarning: \nA value is trying to be set on a copy of a slice from a DataFrame\n\nSee the caveats in the documentation: http://pandas.pydata.org/pandas-docs/stable/indexing.html#indexing-view-versus-copy\n  return super(DataFrame, self).rename(**kwargs)\n",
                    "name": "stderr"
                }
            ]
        },
        {
            "metadata": {},
            "cell_type": "code",
            "source": "# Check for multiple neighborhoods using the same postal code by looking for duplicate postal codes\nprint('Unique values:', df['Postal Code'].nunique(), 'Total Rows:', len(df.index)) ",
            "execution_count": 12,
            "outputs": [
                {
                    "output_type": "stream",
                    "text": "Unique values: 103 Total Rows: 103\n",
                    "name": "stdout"
                }
            ]
        },
        {
            "metadata": {},
            "cell_type": "code",
            "source": "# Reset index to accomodate for dropped rows\ndf = df.reset_index(drop=True)\ndf ",
            "execution_count": 13,
            "outputs": [
                {
                    "output_type": "execute_result",
                    "execution_count": 13,
                    "data": {
                        "text/plain": "    Postal Code           Borough  \\\n0           M3A        North York   \n1           M4A        North York   \n2           M5A  Downtown Toronto   \n3           M6A        North York   \n4           M7A  Downtown Toronto   \n5           M9A         Etobicoke   \n6           M1B       Scarborough   \n7           M3B        North York   \n8           M4B         East York   \n9           M5B  Downtown Toronto   \n10          M6B        North York   \n11          M9B         Etobicoke   \n12          M1C       Scarborough   \n13          M3C        North York   \n14          M4C         East York   \n15          M5C  Downtown Toronto   \n16          M6C              York   \n17          M9C         Etobicoke   \n18          M1E       Scarborough   \n19          M4E      East Toronto   \n20          M5E  Downtown Toronto   \n21          M6E              York   \n22          M1G       Scarborough   \n23          M4G         East York   \n24          M5G  Downtown Toronto   \n25          M6G  Downtown Toronto   \n26          M1H       Scarborough   \n27          M2H        North York   \n28          M3H        North York   \n29          M4H         East York   \n..          ...               ...   \n73          M4R   Central Toronto   \n74          M5R   Central Toronto   \n75          M6R      West Toronto   \n76          M7R       Mississauga   \n77          M9R         Etobicoke   \n78          M1S       Scarborough   \n79          M4S   Central Toronto   \n80          M5S  Downtown Toronto   \n81          M6S      West Toronto   \n82          M1T       Scarborough   \n83          M4T   Central Toronto   \n84          M5T  Downtown Toronto   \n85          M1V       Scarborough   \n86          M4V   Central Toronto   \n87          M5V  Downtown Toronto   \n88          M8V         Etobicoke   \n89          M9V         Etobicoke   \n90          M1W       Scarborough   \n91          M4W  Downtown Toronto   \n92          M5W  Downtown Toronto   \n93          M8W         Etobicoke   \n94          M9W         Etobicoke   \n95          M1X       Scarborough   \n96          M4X  Downtown Toronto   \n97          M5X  Downtown Toronto   \n98          M8X         Etobicoke   \n99          M4Y  Downtown Toronto   \n100         M7Y      East Toronto   \n101         M8Y         Etobicoke   \n102         M8Z         Etobicoke   \n\n                                          Neighborhood  \n0                                            Parkwoods  \n1                                     Victoria Village  \n2                            Regent Park, Harbourfront  \n3                     Lawrence Manor, Lawrence Heights  \n4          Queen's Park, Ontario Provincial Government  \n5              Islington Avenue, Humber Valley Village  \n6                                       Malvern, Rouge  \n7                                            Don Mills  \n8                      Parkview Hill, Woodbine Gardens  \n9                             Garden District, Ryerson  \n10                                           Glencairn  \n11   West Deane Park, Princess Gardens, Martin Grov...  \n12              Rouge Hill, Port Union, Highland Creek  \n13                                           Don Mills  \n14                                    Woodbine Heights  \n15                                      St. James Town  \n16                                  Humewood-Cedarvale  \n17   Eringate, Bloordale Gardens, Old Burnhamthorpe...  \n18                   Guildwood, Morningside, West Hill  \n19                                         The Beaches  \n20                                         Berczy Park  \n21                                 Caledonia-Fairbanks  \n22                                              Woburn  \n23                                             Leaside  \n24                                  Central Bay Street  \n25                                            Christie  \n26                                           Cedarbrae  \n27                                   Hillcrest Village  \n28     Bathurst Manor, Wilson Heights, Downsview North  \n29                                    Thorncliffe Park  \n..                                                 ...  \n73                   North Toronto West, Lawrence Park  \n74                 The Annex, North Midtown, Yorkville  \n75                              Parkdale, Roncesvalles  \n76               Canada Post Gateway Processing Centre  \n77   Kingsview Village, St. Phillips, Martin Grove ...  \n78                                           Agincourt  \n79                                          Davisville  \n80                      University of Toronto, Harbord  \n81                                  Runnymede, Swansea  \n82             Clarks Corners, Tam O'Shanter, Sullivan  \n83                         Moore Park, Summerhill East  \n84           Kensington Market, Chinatown, Grange Park  \n85   Milliken, Agincourt North, Steeles East, L'Amo...  \n86   Summerhill West, Rathnelly, South Hill, Forest...  \n87   CN Tower, King and Spadina, Railway Lands, Har...  \n88        New Toronto, Mimico South, Humber Bay Shores  \n89   South Steeles, Silverstone, Humbergate, Jamest...  \n90                       Steeles West, L'Amoreaux West  \n91                                            Rosedale  \n92                                      Stn A PO Boxes  \n93                              Alderwood, Long Branch  \n94                 Northwest, West Humber - Clairville  \n95                                         Upper Rouge  \n96                         St. James Town, Cabbagetown  \n97              First Canadian Place, Underground city  \n98       The Kingsway, Montgomery Road, Old Mill North  \n99                                Church and Wellesley  \n100  Business reply mail Processing Centre, South C...  \n101  Old Mill South, King's Mill Park, Sunnylea, Hu...  \n102  Mimico NW, The Queensway West, South of Bloor,...  \n\n[103 rows x 3 columns]",
                        "text/html": "<div>\n<style scoped>\n    .dataframe tbody tr th:only-of-type {\n        vertical-align: middle;\n    }\n\n    .dataframe tbody tr th {\n        vertical-align: top;\n    }\n\n    .dataframe thead th {\n        text-align: right;\n    }\n</style>\n<table border=\"1\" class=\"dataframe\">\n  <thead>\n    <tr style=\"text-align: right;\">\n      <th></th>\n      <th>Postal Code</th>\n      <th>Borough</th>\n      <th>Neighborhood</th>\n    </tr>\n  </thead>\n  <tbody>\n    <tr>\n      <th>0</th>\n      <td>M3A</td>\n      <td>North York</td>\n      <td>Parkwoods</td>\n    </tr>\n    <tr>\n      <th>1</th>\n      <td>M4A</td>\n      <td>North York</td>\n      <td>Victoria Village</td>\n    </tr>\n    <tr>\n      <th>2</th>\n      <td>M5A</td>\n      <td>Downtown Toronto</td>\n      <td>Regent Park, Harbourfront</td>\n    </tr>\n    <tr>\n      <th>3</th>\n      <td>M6A</td>\n      <td>North York</td>\n      <td>Lawrence Manor, Lawrence Heights</td>\n    </tr>\n    <tr>\n      <th>4</th>\n      <td>M7A</td>\n      <td>Downtown Toronto</td>\n      <td>Queen's Park, Ontario Provincial Government</td>\n    </tr>\n    <tr>\n      <th>5</th>\n      <td>M9A</td>\n      <td>Etobicoke</td>\n      <td>Islington Avenue, Humber Valley Village</td>\n    </tr>\n    <tr>\n      <th>6</th>\n      <td>M1B</td>\n      <td>Scarborough</td>\n      <td>Malvern, Rouge</td>\n    </tr>\n    <tr>\n      <th>7</th>\n      <td>M3B</td>\n      <td>North York</td>\n      <td>Don Mills</td>\n    </tr>\n    <tr>\n      <th>8</th>\n      <td>M4B</td>\n      <td>East York</td>\n      <td>Parkview Hill, Woodbine Gardens</td>\n    </tr>\n    <tr>\n      <th>9</th>\n      <td>M5B</td>\n      <td>Downtown Toronto</td>\n      <td>Garden District, Ryerson</td>\n    </tr>\n    <tr>\n      <th>10</th>\n      <td>M6B</td>\n      <td>North York</td>\n      <td>Glencairn</td>\n    </tr>\n    <tr>\n      <th>11</th>\n      <td>M9B</td>\n      <td>Etobicoke</td>\n      <td>West Deane Park, Princess Gardens, Martin Grov...</td>\n    </tr>\n    <tr>\n      <th>12</th>\n      <td>M1C</td>\n      <td>Scarborough</td>\n      <td>Rouge Hill, Port Union, Highland Creek</td>\n    </tr>\n    <tr>\n      <th>13</th>\n      <td>M3C</td>\n      <td>North York</td>\n      <td>Don Mills</td>\n    </tr>\n    <tr>\n      <th>14</th>\n      <td>M4C</td>\n      <td>East York</td>\n      <td>Woodbine Heights</td>\n    </tr>\n    <tr>\n      <th>15</th>\n      <td>M5C</td>\n      <td>Downtown Toronto</td>\n      <td>St. James Town</td>\n    </tr>\n    <tr>\n      <th>16</th>\n      <td>M6C</td>\n      <td>York</td>\n      <td>Humewood-Cedarvale</td>\n    </tr>\n    <tr>\n      <th>17</th>\n      <td>M9C</td>\n      <td>Etobicoke</td>\n      <td>Eringate, Bloordale Gardens, Old Burnhamthorpe...</td>\n    </tr>\n    <tr>\n      <th>18</th>\n      <td>M1E</td>\n      <td>Scarborough</td>\n      <td>Guildwood, Morningside, West Hill</td>\n    </tr>\n    <tr>\n      <th>19</th>\n      <td>M4E</td>\n      <td>East Toronto</td>\n      <td>The Beaches</td>\n    </tr>\n    <tr>\n      <th>20</th>\n      <td>M5E</td>\n      <td>Downtown Toronto</td>\n      <td>Berczy Park</td>\n    </tr>\n    <tr>\n      <th>21</th>\n      <td>M6E</td>\n      <td>York</td>\n      <td>Caledonia-Fairbanks</td>\n    </tr>\n    <tr>\n      <th>22</th>\n      <td>M1G</td>\n      <td>Scarborough</td>\n      <td>Woburn</td>\n    </tr>\n    <tr>\n      <th>23</th>\n      <td>M4G</td>\n      <td>East York</td>\n      <td>Leaside</td>\n    </tr>\n    <tr>\n      <th>24</th>\n      <td>M5G</td>\n      <td>Downtown Toronto</td>\n      <td>Central Bay Street</td>\n    </tr>\n    <tr>\n      <th>25</th>\n      <td>M6G</td>\n      <td>Downtown Toronto</td>\n      <td>Christie</td>\n    </tr>\n    <tr>\n      <th>26</th>\n      <td>M1H</td>\n      <td>Scarborough</td>\n      <td>Cedarbrae</td>\n    </tr>\n    <tr>\n      <th>27</th>\n      <td>M2H</td>\n      <td>North York</td>\n      <td>Hillcrest Village</td>\n    </tr>\n    <tr>\n      <th>28</th>\n      <td>M3H</td>\n      <td>North York</td>\n      <td>Bathurst Manor, Wilson Heights, Downsview North</td>\n    </tr>\n    <tr>\n      <th>29</th>\n      <td>M4H</td>\n      <td>East York</td>\n      <td>Thorncliffe Park</td>\n    </tr>\n    <tr>\n      <th>...</th>\n      <td>...</td>\n      <td>...</td>\n      <td>...</td>\n    </tr>\n    <tr>\n      <th>73</th>\n      <td>M4R</td>\n      <td>Central Toronto</td>\n      <td>North Toronto West, Lawrence Park</td>\n    </tr>\n    <tr>\n      <th>74</th>\n      <td>M5R</td>\n      <td>Central Toronto</td>\n      <td>The Annex, North Midtown, Yorkville</td>\n    </tr>\n    <tr>\n      <th>75</th>\n      <td>M6R</td>\n      <td>West Toronto</td>\n      <td>Parkdale, Roncesvalles</td>\n    </tr>\n    <tr>\n      <th>76</th>\n      <td>M7R</td>\n      <td>Mississauga</td>\n      <td>Canada Post Gateway Processing Centre</td>\n    </tr>\n    <tr>\n      <th>77</th>\n      <td>M9R</td>\n      <td>Etobicoke</td>\n      <td>Kingsview Village, St. Phillips, Martin Grove ...</td>\n    </tr>\n    <tr>\n      <th>78</th>\n      <td>M1S</td>\n      <td>Scarborough</td>\n      <td>Agincourt</td>\n    </tr>\n    <tr>\n      <th>79</th>\n      <td>M4S</td>\n      <td>Central Toronto</td>\n      <td>Davisville</td>\n    </tr>\n    <tr>\n      <th>80</th>\n      <td>M5S</td>\n      <td>Downtown Toronto</td>\n      <td>University of Toronto, Harbord</td>\n    </tr>\n    <tr>\n      <th>81</th>\n      <td>M6S</td>\n      <td>West Toronto</td>\n      <td>Runnymede, Swansea</td>\n    </tr>\n    <tr>\n      <th>82</th>\n      <td>M1T</td>\n      <td>Scarborough</td>\n      <td>Clarks Corners, Tam O'Shanter, Sullivan</td>\n    </tr>\n    <tr>\n      <th>83</th>\n      <td>M4T</td>\n      <td>Central Toronto</td>\n      <td>Moore Park, Summerhill East</td>\n    </tr>\n    <tr>\n      <th>84</th>\n      <td>M5T</td>\n      <td>Downtown Toronto</td>\n      <td>Kensington Market, Chinatown, Grange Park</td>\n    </tr>\n    <tr>\n      <th>85</th>\n      <td>M1V</td>\n      <td>Scarborough</td>\n      <td>Milliken, Agincourt North, Steeles East, L'Amo...</td>\n    </tr>\n    <tr>\n      <th>86</th>\n      <td>M4V</td>\n      <td>Central Toronto</td>\n      <td>Summerhill West, Rathnelly, South Hill, Forest...</td>\n    </tr>\n    <tr>\n      <th>87</th>\n      <td>M5V</td>\n      <td>Downtown Toronto</td>\n      <td>CN Tower, King and Spadina, Railway Lands, Har...</td>\n    </tr>\n    <tr>\n      <th>88</th>\n      <td>M8V</td>\n      <td>Etobicoke</td>\n      <td>New Toronto, Mimico South, Humber Bay Shores</td>\n    </tr>\n    <tr>\n      <th>89</th>\n      <td>M9V</td>\n      <td>Etobicoke</td>\n      <td>South Steeles, Silverstone, Humbergate, Jamest...</td>\n    </tr>\n    <tr>\n      <th>90</th>\n      <td>M1W</td>\n      <td>Scarborough</td>\n      <td>Steeles West, L'Amoreaux West</td>\n    </tr>\n    <tr>\n      <th>91</th>\n      <td>M4W</td>\n      <td>Downtown Toronto</td>\n      <td>Rosedale</td>\n    </tr>\n    <tr>\n      <th>92</th>\n      <td>M5W</td>\n      <td>Downtown Toronto</td>\n      <td>Stn A PO Boxes</td>\n    </tr>\n    <tr>\n      <th>93</th>\n      <td>M8W</td>\n      <td>Etobicoke</td>\n      <td>Alderwood, Long Branch</td>\n    </tr>\n    <tr>\n      <th>94</th>\n      <td>M9W</td>\n      <td>Etobicoke</td>\n      <td>Northwest, West Humber - Clairville</td>\n    </tr>\n    <tr>\n      <th>95</th>\n      <td>M1X</td>\n      <td>Scarborough</td>\n      <td>Upper Rouge</td>\n    </tr>\n    <tr>\n      <th>96</th>\n      <td>M4X</td>\n      <td>Downtown Toronto</td>\n      <td>St. James Town, Cabbagetown</td>\n    </tr>\n    <tr>\n      <th>97</th>\n      <td>M5X</td>\n      <td>Downtown Toronto</td>\n      <td>First Canadian Place, Underground city</td>\n    </tr>\n    <tr>\n      <th>98</th>\n      <td>M8X</td>\n      <td>Etobicoke</td>\n      <td>The Kingsway, Montgomery Road, Old Mill North</td>\n    </tr>\n    <tr>\n      <th>99</th>\n      <td>M4Y</td>\n      <td>Downtown Toronto</td>\n      <td>Church and Wellesley</td>\n    </tr>\n    <tr>\n      <th>100</th>\n      <td>M7Y</td>\n      <td>East Toronto</td>\n      <td>Business reply mail Processing Centre, South C...</td>\n    </tr>\n    <tr>\n      <th>101</th>\n      <td>M8Y</td>\n      <td>Etobicoke</td>\n      <td>Old Mill South, King's Mill Park, Sunnylea, Hu...</td>\n    </tr>\n    <tr>\n      <th>102</th>\n      <td>M8Z</td>\n      <td>Etobicoke</td>\n      <td>Mimico NW, The Queensway West, South of Bloor,...</td>\n    </tr>\n  </tbody>\n</table>\n<p>103 rows \u00d7 3 columns</p>\n</div>"
                    },
                    "metadata": {}
                }
            ]
        },
        {
            "metadata": {},
            "cell_type": "markdown",
            "source": "### Show Dataframe Shape  "
        },
        {
            "metadata": {},
            "cell_type": "code",
            "source": "df.shape ",
            "execution_count": 14,
            "outputs": [
                {
                    "output_type": "execute_result",
                    "execution_count": 14,
                    "data": {
                        "text/plain": "(103, 3)"
                    },
                    "metadata": {}
                }
            ]
        },
        {
            "metadata": {},
            "cell_type": "markdown",
            "source": "# Part 2 "
        },
        {
            "metadata": {},
            "cell_type": "markdown",
            "source": "### Instructions: \n\nNow that you have built a dataframe of the postal code of each neighborhood along with the borough name and neighborhood name, in order to utilize the Foursquare location data, we need to get the latitude and the longitude coordinates of each neighborhood.\n...we will use the Geocoder Python package instead: https://geocoder.readthedocs.io/index.html.\nThe problem with this Package is you have to be persistent sometimes in order to get the geographical coordinates of a given postal code. So you can make a call to get the latitude and longitude coordinates of a given postal code and the result would be None, and then make the call again and you would get the coordinates. So, in order to make sure that you get the coordinates for all of our neighborhoods, you can run a while loop for each postal code.\nGiven that this package can be very unreliable, in case you are not able to get the geographical coordinates of the neighborhoods using the Geocoder package, here is a link to a csv file that has the geographical coordinates of each postal code: http://cocl.us/Geospatial_data\nUse the Geocoder package or the csv file to create a dataframe.\nImportant Note: There is a limit on how many times you can call geocoder.google function. It is 2500 times per day. This should be way more than enough for you to get acquainted with the package and to use it to get the geographical coordinates of the neighborhoods in the Toronto.\nOnce you are able to create the dataframe, submit a link to the new Notebook on your Github repository. "
        },
        {
            "metadata": {},
            "cell_type": "code",
            "source": "# Specify URL and identify page\nurl2 = 'http://cocl.us/Geospatial_data'\n\n# Use Pandas to read csv into a dataframe\ndf2 = pd.read_csv(url2)\n\ndf2.head() ",
            "execution_count": 15,
            "outputs": [
                {
                    "output_type": "execute_result",
                    "execution_count": 15,
                    "data": {
                        "text/plain": "  Postal Code   Latitude  Longitude\n0         M1B  43.806686 -79.194353\n1         M1C  43.784535 -79.160497\n2         M1E  43.763573 -79.188711\n3         M1G  43.770992 -79.216917\n4         M1H  43.773136 -79.239476",
                        "text/html": "<div>\n<style scoped>\n    .dataframe tbody tr th:only-of-type {\n        vertical-align: middle;\n    }\n\n    .dataframe tbody tr th {\n        vertical-align: top;\n    }\n\n    .dataframe thead th {\n        text-align: right;\n    }\n</style>\n<table border=\"1\" class=\"dataframe\">\n  <thead>\n    <tr style=\"text-align: right;\">\n      <th></th>\n      <th>Postal Code</th>\n      <th>Latitude</th>\n      <th>Longitude</th>\n    </tr>\n  </thead>\n  <tbody>\n    <tr>\n      <th>0</th>\n      <td>M1B</td>\n      <td>43.806686</td>\n      <td>-79.194353</td>\n    </tr>\n    <tr>\n      <th>1</th>\n      <td>M1C</td>\n      <td>43.784535</td>\n      <td>-79.160497</td>\n    </tr>\n    <tr>\n      <th>2</th>\n      <td>M1E</td>\n      <td>43.763573</td>\n      <td>-79.188711</td>\n    </tr>\n    <tr>\n      <th>3</th>\n      <td>M1G</td>\n      <td>43.770992</td>\n      <td>-79.216917</td>\n    </tr>\n    <tr>\n      <th>4</th>\n      <td>M1H</td>\n      <td>43.773136</td>\n      <td>-79.239476</td>\n    </tr>\n  </tbody>\n</table>\n</div>"
                    },
                    "metadata": {}
                }
            ]
        },
        {
            "metadata": {},
            "cell_type": "code",
            "source": "# Inner join to merge two dataframes\ndf3 = pd.merge(left=df, right=df2)\n\ndf3 ",
            "execution_count": 16,
            "outputs": [
                {
                    "output_type": "execute_result",
                    "execution_count": 16,
                    "data": {
                        "text/plain": "    Postal Code           Borough  \\\n0           M3A        North York   \n1           M4A        North York   \n2           M5A  Downtown Toronto   \n3           M6A        North York   \n4           M7A  Downtown Toronto   \n5           M9A         Etobicoke   \n6           M1B       Scarborough   \n7           M3B        North York   \n8           M4B         East York   \n9           M5B  Downtown Toronto   \n10          M6B        North York   \n11          M9B         Etobicoke   \n12          M1C       Scarborough   \n13          M3C        North York   \n14          M4C         East York   \n15          M5C  Downtown Toronto   \n16          M6C              York   \n17          M9C         Etobicoke   \n18          M1E       Scarborough   \n19          M4E      East Toronto   \n20          M5E  Downtown Toronto   \n21          M6E              York   \n22          M1G       Scarborough   \n23          M4G         East York   \n24          M5G  Downtown Toronto   \n25          M6G  Downtown Toronto   \n26          M1H       Scarborough   \n27          M2H        North York   \n28          M3H        North York   \n29          M4H         East York   \n..          ...               ...   \n73          M4R   Central Toronto   \n74          M5R   Central Toronto   \n75          M6R      West Toronto   \n76          M7R       Mississauga   \n77          M9R         Etobicoke   \n78          M1S       Scarborough   \n79          M4S   Central Toronto   \n80          M5S  Downtown Toronto   \n81          M6S      West Toronto   \n82          M1T       Scarborough   \n83          M4T   Central Toronto   \n84          M5T  Downtown Toronto   \n85          M1V       Scarborough   \n86          M4V   Central Toronto   \n87          M5V  Downtown Toronto   \n88          M8V         Etobicoke   \n89          M9V         Etobicoke   \n90          M1W       Scarborough   \n91          M4W  Downtown Toronto   \n92          M5W  Downtown Toronto   \n93          M8W         Etobicoke   \n94          M9W         Etobicoke   \n95          M1X       Scarborough   \n96          M4X  Downtown Toronto   \n97          M5X  Downtown Toronto   \n98          M8X         Etobicoke   \n99          M4Y  Downtown Toronto   \n100         M7Y      East Toronto   \n101         M8Y         Etobicoke   \n102         M8Z         Etobicoke   \n\n                                          Neighborhood   Latitude  Longitude  \n0                                            Parkwoods  43.753259 -79.329656  \n1                                     Victoria Village  43.725882 -79.315572  \n2                            Regent Park, Harbourfront  43.654260 -79.360636  \n3                     Lawrence Manor, Lawrence Heights  43.718518 -79.464763  \n4          Queen's Park, Ontario Provincial Government  43.662301 -79.389494  \n5              Islington Avenue, Humber Valley Village  43.667856 -79.532242  \n6                                       Malvern, Rouge  43.806686 -79.194353  \n7                                            Don Mills  43.745906 -79.352188  \n8                      Parkview Hill, Woodbine Gardens  43.706397 -79.309937  \n9                             Garden District, Ryerson  43.657162 -79.378937  \n10                                           Glencairn  43.709577 -79.445073  \n11   West Deane Park, Princess Gardens, Martin Grov...  43.650943 -79.554724  \n12              Rouge Hill, Port Union, Highland Creek  43.784535 -79.160497  \n13                                           Don Mills  43.725900 -79.340923  \n14                                    Woodbine Heights  43.695344 -79.318389  \n15                                      St. James Town  43.651494 -79.375418  \n16                                  Humewood-Cedarvale  43.693781 -79.428191  \n17   Eringate, Bloordale Gardens, Old Burnhamthorpe...  43.643515 -79.577201  \n18                   Guildwood, Morningside, West Hill  43.763573 -79.188711  \n19                                         The Beaches  43.676357 -79.293031  \n20                                         Berczy Park  43.644771 -79.373306  \n21                                 Caledonia-Fairbanks  43.689026 -79.453512  \n22                                              Woburn  43.770992 -79.216917  \n23                                             Leaside  43.709060 -79.363452  \n24                                  Central Bay Street  43.657952 -79.387383  \n25                                            Christie  43.669542 -79.422564  \n26                                           Cedarbrae  43.773136 -79.239476  \n27                                   Hillcrest Village  43.803762 -79.363452  \n28     Bathurst Manor, Wilson Heights, Downsview North  43.754328 -79.442259  \n29                                    Thorncliffe Park  43.705369 -79.349372  \n..                                                 ...        ...        ...  \n73                   North Toronto West, Lawrence Park  43.715383 -79.405678  \n74                 The Annex, North Midtown, Yorkville  43.672710 -79.405678  \n75                              Parkdale, Roncesvalles  43.648960 -79.456325  \n76               Canada Post Gateway Processing Centre  43.636966 -79.615819  \n77   Kingsview Village, St. Phillips, Martin Grove ...  43.688905 -79.554724  \n78                                           Agincourt  43.794200 -79.262029  \n79                                          Davisville  43.704324 -79.388790  \n80                      University of Toronto, Harbord  43.662696 -79.400049  \n81                                  Runnymede, Swansea  43.651571 -79.484450  \n82             Clarks Corners, Tam O'Shanter, Sullivan  43.781638 -79.304302  \n83                         Moore Park, Summerhill East  43.689574 -79.383160  \n84           Kensington Market, Chinatown, Grange Park  43.653206 -79.400049  \n85   Milliken, Agincourt North, Steeles East, L'Amo...  43.815252 -79.284577  \n86   Summerhill West, Rathnelly, South Hill, Forest...  43.686412 -79.400049  \n87   CN Tower, King and Spadina, Railway Lands, Har...  43.628947 -79.394420  \n88        New Toronto, Mimico South, Humber Bay Shores  43.605647 -79.501321  \n89   South Steeles, Silverstone, Humbergate, Jamest...  43.739416 -79.588437  \n90                       Steeles West, L'Amoreaux West  43.799525 -79.318389  \n91                                            Rosedale  43.679563 -79.377529  \n92                                      Stn A PO Boxes  43.646435 -79.374846  \n93                              Alderwood, Long Branch  43.602414 -79.543484  \n94                 Northwest, West Humber - Clairville  43.706748 -79.594054  \n95                                         Upper Rouge  43.836125 -79.205636  \n96                         St. James Town, Cabbagetown  43.667967 -79.367675  \n97              First Canadian Place, Underground city  43.648429 -79.382280  \n98       The Kingsway, Montgomery Road, Old Mill North  43.653654 -79.506944  \n99                                Church and Wellesley  43.665860 -79.383160  \n100  Business reply mail Processing Centre, South C...  43.662744 -79.321558  \n101  Old Mill South, King's Mill Park, Sunnylea, Hu...  43.636258 -79.498509  \n102  Mimico NW, The Queensway West, South of Bloor,...  43.628841 -79.520999  \n\n[103 rows x 5 columns]",
                        "text/html": "<div>\n<style scoped>\n    .dataframe tbody tr th:only-of-type {\n        vertical-align: middle;\n    }\n\n    .dataframe tbody tr th {\n        vertical-align: top;\n    }\n\n    .dataframe thead th {\n        text-align: right;\n    }\n</style>\n<table border=\"1\" class=\"dataframe\">\n  <thead>\n    <tr style=\"text-align: right;\">\n      <th></th>\n      <th>Postal Code</th>\n      <th>Borough</th>\n      <th>Neighborhood</th>\n      <th>Latitude</th>\n      <th>Longitude</th>\n    </tr>\n  </thead>\n  <tbody>\n    <tr>\n      <th>0</th>\n      <td>M3A</td>\n      <td>North York</td>\n      <td>Parkwoods</td>\n      <td>43.753259</td>\n      <td>-79.329656</td>\n    </tr>\n    <tr>\n      <th>1</th>\n      <td>M4A</td>\n      <td>North York</td>\n      <td>Victoria Village</td>\n      <td>43.725882</td>\n      <td>-79.315572</td>\n    </tr>\n    <tr>\n      <th>2</th>\n      <td>M5A</td>\n      <td>Downtown Toronto</td>\n      <td>Regent Park, Harbourfront</td>\n      <td>43.654260</td>\n      <td>-79.360636</td>\n    </tr>\n    <tr>\n      <th>3</th>\n      <td>M6A</td>\n      <td>North York</td>\n      <td>Lawrence Manor, Lawrence Heights</td>\n      <td>43.718518</td>\n      <td>-79.464763</td>\n    </tr>\n    <tr>\n      <th>4</th>\n      <td>M7A</td>\n      <td>Downtown Toronto</td>\n      <td>Queen's Park, Ontario Provincial Government</td>\n      <td>43.662301</td>\n      <td>-79.389494</td>\n    </tr>\n    <tr>\n      <th>5</th>\n      <td>M9A</td>\n      <td>Etobicoke</td>\n      <td>Islington Avenue, Humber Valley Village</td>\n      <td>43.667856</td>\n      <td>-79.532242</td>\n    </tr>\n    <tr>\n      <th>6</th>\n      <td>M1B</td>\n      <td>Scarborough</td>\n      <td>Malvern, Rouge</td>\n      <td>43.806686</td>\n      <td>-79.194353</td>\n    </tr>\n    <tr>\n      <th>7</th>\n      <td>M3B</td>\n      <td>North York</td>\n      <td>Don Mills</td>\n      <td>43.745906</td>\n      <td>-79.352188</td>\n    </tr>\n    <tr>\n      <th>8</th>\n      <td>M4B</td>\n      <td>East York</td>\n      <td>Parkview Hill, Woodbine Gardens</td>\n      <td>43.706397</td>\n      <td>-79.309937</td>\n    </tr>\n    <tr>\n      <th>9</th>\n      <td>M5B</td>\n      <td>Downtown Toronto</td>\n      <td>Garden District, Ryerson</td>\n      <td>43.657162</td>\n      <td>-79.378937</td>\n    </tr>\n    <tr>\n      <th>10</th>\n      <td>M6B</td>\n      <td>North York</td>\n      <td>Glencairn</td>\n      <td>43.709577</td>\n      <td>-79.445073</td>\n    </tr>\n    <tr>\n      <th>11</th>\n      <td>M9B</td>\n      <td>Etobicoke</td>\n      <td>West Deane Park, Princess Gardens, Martin Grov...</td>\n      <td>43.650943</td>\n      <td>-79.554724</td>\n    </tr>\n    <tr>\n      <th>12</th>\n      <td>M1C</td>\n      <td>Scarborough</td>\n      <td>Rouge Hill, Port Union, Highland Creek</td>\n      <td>43.784535</td>\n      <td>-79.160497</td>\n    </tr>\n    <tr>\n      <th>13</th>\n      <td>M3C</td>\n      <td>North York</td>\n      <td>Don Mills</td>\n      <td>43.725900</td>\n      <td>-79.340923</td>\n    </tr>\n    <tr>\n      <th>14</th>\n      <td>M4C</td>\n      <td>East York</td>\n      <td>Woodbine Heights</td>\n      <td>43.695344</td>\n      <td>-79.318389</td>\n    </tr>\n    <tr>\n      <th>15</th>\n      <td>M5C</td>\n      <td>Downtown Toronto</td>\n      <td>St. James Town</td>\n      <td>43.651494</td>\n      <td>-79.375418</td>\n    </tr>\n    <tr>\n      <th>16</th>\n      <td>M6C</td>\n      <td>York</td>\n      <td>Humewood-Cedarvale</td>\n      <td>43.693781</td>\n      <td>-79.428191</td>\n    </tr>\n    <tr>\n      <th>17</th>\n      <td>M9C</td>\n      <td>Etobicoke</td>\n      <td>Eringate, Bloordale Gardens, Old Burnhamthorpe...</td>\n      <td>43.643515</td>\n      <td>-79.577201</td>\n    </tr>\n    <tr>\n      <th>18</th>\n      <td>M1E</td>\n      <td>Scarborough</td>\n      <td>Guildwood, Morningside, West Hill</td>\n      <td>43.763573</td>\n      <td>-79.188711</td>\n    </tr>\n    <tr>\n      <th>19</th>\n      <td>M4E</td>\n      <td>East Toronto</td>\n      <td>The Beaches</td>\n      <td>43.676357</td>\n      <td>-79.293031</td>\n    </tr>\n    <tr>\n      <th>20</th>\n      <td>M5E</td>\n      <td>Downtown Toronto</td>\n      <td>Berczy Park</td>\n      <td>43.644771</td>\n      <td>-79.373306</td>\n    </tr>\n    <tr>\n      <th>21</th>\n      <td>M6E</td>\n      <td>York</td>\n      <td>Caledonia-Fairbanks</td>\n      <td>43.689026</td>\n      <td>-79.453512</td>\n    </tr>\n    <tr>\n      <th>22</th>\n      <td>M1G</td>\n      <td>Scarborough</td>\n      <td>Woburn</td>\n      <td>43.770992</td>\n      <td>-79.216917</td>\n    </tr>\n    <tr>\n      <th>23</th>\n      <td>M4G</td>\n      <td>East York</td>\n      <td>Leaside</td>\n      <td>43.709060</td>\n      <td>-79.363452</td>\n    </tr>\n    <tr>\n      <th>24</th>\n      <td>M5G</td>\n      <td>Downtown Toronto</td>\n      <td>Central Bay Street</td>\n      <td>43.657952</td>\n      <td>-79.387383</td>\n    </tr>\n    <tr>\n      <th>25</th>\n      <td>M6G</td>\n      <td>Downtown Toronto</td>\n      <td>Christie</td>\n      <td>43.669542</td>\n      <td>-79.422564</td>\n    </tr>\n    <tr>\n      <th>26</th>\n      <td>M1H</td>\n      <td>Scarborough</td>\n      <td>Cedarbrae</td>\n      <td>43.773136</td>\n      <td>-79.239476</td>\n    </tr>\n    <tr>\n      <th>27</th>\n      <td>M2H</td>\n      <td>North York</td>\n      <td>Hillcrest Village</td>\n      <td>43.803762</td>\n      <td>-79.363452</td>\n    </tr>\n    <tr>\n      <th>28</th>\n      <td>M3H</td>\n      <td>North York</td>\n      <td>Bathurst Manor, Wilson Heights, Downsview North</td>\n      <td>43.754328</td>\n      <td>-79.442259</td>\n    </tr>\n    <tr>\n      <th>29</th>\n      <td>M4H</td>\n      <td>East York</td>\n      <td>Thorncliffe Park</td>\n      <td>43.705369</td>\n      <td>-79.349372</td>\n    </tr>\n    <tr>\n      <th>...</th>\n      <td>...</td>\n      <td>...</td>\n      <td>...</td>\n      <td>...</td>\n      <td>...</td>\n    </tr>\n    <tr>\n      <th>73</th>\n      <td>M4R</td>\n      <td>Central Toronto</td>\n      <td>North Toronto West, Lawrence Park</td>\n      <td>43.715383</td>\n      <td>-79.405678</td>\n    </tr>\n    <tr>\n      <th>74</th>\n      <td>M5R</td>\n      <td>Central Toronto</td>\n      <td>The Annex, North Midtown, Yorkville</td>\n      <td>43.672710</td>\n      <td>-79.405678</td>\n    </tr>\n    <tr>\n      <th>75</th>\n      <td>M6R</td>\n      <td>West Toronto</td>\n      <td>Parkdale, Roncesvalles</td>\n      <td>43.648960</td>\n      <td>-79.456325</td>\n    </tr>\n    <tr>\n      <th>76</th>\n      <td>M7R</td>\n      <td>Mississauga</td>\n      <td>Canada Post Gateway Processing Centre</td>\n      <td>43.636966</td>\n      <td>-79.615819</td>\n    </tr>\n    <tr>\n      <th>77</th>\n      <td>M9R</td>\n      <td>Etobicoke</td>\n      <td>Kingsview Village, St. Phillips, Martin Grove ...</td>\n      <td>43.688905</td>\n      <td>-79.554724</td>\n    </tr>\n    <tr>\n      <th>78</th>\n      <td>M1S</td>\n      <td>Scarborough</td>\n      <td>Agincourt</td>\n      <td>43.794200</td>\n      <td>-79.262029</td>\n    </tr>\n    <tr>\n      <th>79</th>\n      <td>M4S</td>\n      <td>Central Toronto</td>\n      <td>Davisville</td>\n      <td>43.704324</td>\n      <td>-79.388790</td>\n    </tr>\n    <tr>\n      <th>80</th>\n      <td>M5S</td>\n      <td>Downtown Toronto</td>\n      <td>University of Toronto, Harbord</td>\n      <td>43.662696</td>\n      <td>-79.400049</td>\n    </tr>\n    <tr>\n      <th>81</th>\n      <td>M6S</td>\n      <td>West Toronto</td>\n      <td>Runnymede, Swansea</td>\n      <td>43.651571</td>\n      <td>-79.484450</td>\n    </tr>\n    <tr>\n      <th>82</th>\n      <td>M1T</td>\n      <td>Scarborough</td>\n      <td>Clarks Corners, Tam O'Shanter, Sullivan</td>\n      <td>43.781638</td>\n      <td>-79.304302</td>\n    </tr>\n    <tr>\n      <th>83</th>\n      <td>M4T</td>\n      <td>Central Toronto</td>\n      <td>Moore Park, Summerhill East</td>\n      <td>43.689574</td>\n      <td>-79.383160</td>\n    </tr>\n    <tr>\n      <th>84</th>\n      <td>M5T</td>\n      <td>Downtown Toronto</td>\n      <td>Kensington Market, Chinatown, Grange Park</td>\n      <td>43.653206</td>\n      <td>-79.400049</td>\n    </tr>\n    <tr>\n      <th>85</th>\n      <td>M1V</td>\n      <td>Scarborough</td>\n      <td>Milliken, Agincourt North, Steeles East, L'Amo...</td>\n      <td>43.815252</td>\n      <td>-79.284577</td>\n    </tr>\n    <tr>\n      <th>86</th>\n      <td>M4V</td>\n      <td>Central Toronto</td>\n      <td>Summerhill West, Rathnelly, South Hill, Forest...</td>\n      <td>43.686412</td>\n      <td>-79.400049</td>\n    </tr>\n    <tr>\n      <th>87</th>\n      <td>M5V</td>\n      <td>Downtown Toronto</td>\n      <td>CN Tower, King and Spadina, Railway Lands, Har...</td>\n      <td>43.628947</td>\n      <td>-79.394420</td>\n    </tr>\n    <tr>\n      <th>88</th>\n      <td>M8V</td>\n      <td>Etobicoke</td>\n      <td>New Toronto, Mimico South, Humber Bay Shores</td>\n      <td>43.605647</td>\n      <td>-79.501321</td>\n    </tr>\n    <tr>\n      <th>89</th>\n      <td>M9V</td>\n      <td>Etobicoke</td>\n      <td>South Steeles, Silverstone, Humbergate, Jamest...</td>\n      <td>43.739416</td>\n      <td>-79.588437</td>\n    </tr>\n    <tr>\n      <th>90</th>\n      <td>M1W</td>\n      <td>Scarborough</td>\n      <td>Steeles West, L'Amoreaux West</td>\n      <td>43.799525</td>\n      <td>-79.318389</td>\n    </tr>\n    <tr>\n      <th>91</th>\n      <td>M4W</td>\n      <td>Downtown Toronto</td>\n      <td>Rosedale</td>\n      <td>43.679563</td>\n      <td>-79.377529</td>\n    </tr>\n    <tr>\n      <th>92</th>\n      <td>M5W</td>\n      <td>Downtown Toronto</td>\n      <td>Stn A PO Boxes</td>\n      <td>43.646435</td>\n      <td>-79.374846</td>\n    </tr>\n    <tr>\n      <th>93</th>\n      <td>M8W</td>\n      <td>Etobicoke</td>\n      <td>Alderwood, Long Branch</td>\n      <td>43.602414</td>\n      <td>-79.543484</td>\n    </tr>\n    <tr>\n      <th>94</th>\n      <td>M9W</td>\n      <td>Etobicoke</td>\n      <td>Northwest, West Humber - Clairville</td>\n      <td>43.706748</td>\n      <td>-79.594054</td>\n    </tr>\n    <tr>\n      <th>95</th>\n      <td>M1X</td>\n      <td>Scarborough</td>\n      <td>Upper Rouge</td>\n      <td>43.836125</td>\n      <td>-79.205636</td>\n    </tr>\n    <tr>\n      <th>96</th>\n      <td>M4X</td>\n      <td>Downtown Toronto</td>\n      <td>St. James Town, Cabbagetown</td>\n      <td>43.667967</td>\n      <td>-79.367675</td>\n    </tr>\n    <tr>\n      <th>97</th>\n      <td>M5X</td>\n      <td>Downtown Toronto</td>\n      <td>First Canadian Place, Underground city</td>\n      <td>43.648429</td>\n      <td>-79.382280</td>\n    </tr>\n    <tr>\n      <th>98</th>\n      <td>M8X</td>\n      <td>Etobicoke</td>\n      <td>The Kingsway, Montgomery Road, Old Mill North</td>\n      <td>43.653654</td>\n      <td>-79.506944</td>\n    </tr>\n    <tr>\n      <th>99</th>\n      <td>M4Y</td>\n      <td>Downtown Toronto</td>\n      <td>Church and Wellesley</td>\n      <td>43.665860</td>\n      <td>-79.383160</td>\n    </tr>\n    <tr>\n      <th>100</th>\n      <td>M7Y</td>\n      <td>East Toronto</td>\n      <td>Business reply mail Processing Centre, South C...</td>\n      <td>43.662744</td>\n      <td>-79.321558</td>\n    </tr>\n    <tr>\n      <th>101</th>\n      <td>M8Y</td>\n      <td>Etobicoke</td>\n      <td>Old Mill South, King's Mill Park, Sunnylea, Hu...</td>\n      <td>43.636258</td>\n      <td>-79.498509</td>\n    </tr>\n    <tr>\n      <th>102</th>\n      <td>M8Z</td>\n      <td>Etobicoke</td>\n      <td>Mimico NW, The Queensway West, South of Bloor,...</td>\n      <td>43.628841</td>\n      <td>-79.520999</td>\n    </tr>\n  </tbody>\n</table>\n<p>103 rows \u00d7 5 columns</p>\n</div>"
                    },
                    "metadata": {}
                }
            ]
        },
        {
            "metadata": {},
            "cell_type": "code",
            "source": "df3.shape ",
            "execution_count": 17,
            "outputs": [
                {
                    "output_type": "execute_result",
                    "execution_count": 17,
                    "data": {
                        "text/plain": "(103, 5)"
                    },
                    "metadata": {}
                }
            ]
        },
        {
            "metadata": {},
            "cell_type": "markdown",
            "source": "# Part 3 "
        },
        {
            "metadata": {},
            "cell_type": "markdown",
            "source": "### Instructions:\n\nExplore and cluster the neighborhoods in Toronto. You can decide to work with only boroughs that contain the word Toronto and then replicate the same analysis we did to the New York City data. It is up to you.\nJust make sure:\n\n1. to add enough Markdown cells to explain what you decided to do and to report any observations you make.\n\n2. to generate maps to visualize your neighborhoods and how they cluster together.\n\nOnce you are happy with your analysis, submit a link to the new Notebook on your Github repository. "
        },
        {
            "metadata": {},
            "cell_type": "markdown",
            "source": "# Explore Neighborhoods in Toronto "
        },
        {
            "metadata": {},
            "cell_type": "markdown",
            "source": "### Start by filtering for only boroughs containing \"Toronto\" "
        },
        {
            "metadata": {},
            "cell_type": "code",
            "source": "df4 = df3[df3[\"Borough\"].str.contains('Toronto')]\ndf4.head() ",
            "execution_count": 18,
            "outputs": [
                {
                    "output_type": "execute_result",
                    "execution_count": 18,
                    "data": {
                        "text/plain": "   Postal Code           Borough                                 Neighborhood  \\\n2          M5A  Downtown Toronto                    Regent Park, Harbourfront   \n4          M7A  Downtown Toronto  Queen's Park, Ontario Provincial Government   \n9          M5B  Downtown Toronto                     Garden District, Ryerson   \n15         M5C  Downtown Toronto                               St. James Town   \n19         M4E      East Toronto                                  The Beaches   \n\n     Latitude  Longitude  \n2   43.654260 -79.360636  \n4   43.662301 -79.389494  \n9   43.657162 -79.378937  \n15  43.651494 -79.375418  \n19  43.676357 -79.293031  ",
                        "text/html": "<div>\n<style scoped>\n    .dataframe tbody tr th:only-of-type {\n        vertical-align: middle;\n    }\n\n    .dataframe tbody tr th {\n        vertical-align: top;\n    }\n\n    .dataframe thead th {\n        text-align: right;\n    }\n</style>\n<table border=\"1\" class=\"dataframe\">\n  <thead>\n    <tr style=\"text-align: right;\">\n      <th></th>\n      <th>Postal Code</th>\n      <th>Borough</th>\n      <th>Neighborhood</th>\n      <th>Latitude</th>\n      <th>Longitude</th>\n    </tr>\n  </thead>\n  <tbody>\n    <tr>\n      <th>2</th>\n      <td>M5A</td>\n      <td>Downtown Toronto</td>\n      <td>Regent Park, Harbourfront</td>\n      <td>43.654260</td>\n      <td>-79.360636</td>\n    </tr>\n    <tr>\n      <th>4</th>\n      <td>M7A</td>\n      <td>Downtown Toronto</td>\n      <td>Queen's Park, Ontario Provincial Government</td>\n      <td>43.662301</td>\n      <td>-79.389494</td>\n    </tr>\n    <tr>\n      <th>9</th>\n      <td>M5B</td>\n      <td>Downtown Toronto</td>\n      <td>Garden District, Ryerson</td>\n      <td>43.657162</td>\n      <td>-79.378937</td>\n    </tr>\n    <tr>\n      <th>15</th>\n      <td>M5C</td>\n      <td>Downtown Toronto</td>\n      <td>St. James Town</td>\n      <td>43.651494</td>\n      <td>-79.375418</td>\n    </tr>\n    <tr>\n      <th>19</th>\n      <td>M4E</td>\n      <td>East Toronto</td>\n      <td>The Beaches</td>\n      <td>43.676357</td>\n      <td>-79.293031</td>\n    </tr>\n  </tbody>\n</table>\n</div>"
                    },
                    "metadata": {}
                }
            ]
        },
        {
            "metadata": {},
            "cell_type": "markdown",
            "source": "### Use geopy library to get the latitude and longitude values of Toronto "
        },
        {
            "metadata": {},
            "cell_type": "code",
            "source": "address = 'Toronto, Ontario, CA'\n\ngeolocator = Nominatim(user_agent=\"toronto_explorer\")\nlocation = geolocator.geocode(address)\nlatitude = location.latitude\nlongitude = location.longitude\nprint('The geograpical coordinates of Toronto are {}, {}.'.format(latitude, longitude)) ",
            "execution_count": 19,
            "outputs": [
                {
                    "output_type": "stream",
                    "text": "The geograpical coordinates of Toronto are 43.6534817, -79.3839347.\n",
                    "name": "stdout"
                }
            ]
        },
        {
            "metadata": {},
            "cell_type": "markdown",
            "source": "### Create map of Toronto with neighborhoods superimposed on top "
        },
        {
            "metadata": {},
            "cell_type": "code",
            "source": "# create map of Toronto using latitude and longitude values\nmap_toronto = folium.Map(location=[latitude, longitude], zoom_start=10)\n\n# add markers to map\nfor lat, lng, borough, neighborhood in zip(df4['Latitude'], df4['Longitude'], df4['Borough'], df4['Neighborhood']):\n    label = '{}, {}'.format(neighborhood, borough)\n    label = folium.Popup(label, parse_html=True)\n    folium.CircleMarker(\n        [lat, lng],\n        radius=5,\n        popup=label,\n        color='purple',\n        fill=True,\n        fill_color='#CC8899',\n        fill_opacity=0.7,\n        parse_html=False).add_to(map_toronto)  \n    \nmap_toronto ",
            "execution_count": 20,
            "outputs": [
                {
                    "output_type": "error",
                    "ename": "NameError",
                    "evalue": "name 'folium' is not defined",
                    "traceback": [
                        "\u001b[0;31m---------------------------------------------------------------------------\u001b[0m",
                        "\u001b[0;31mNameError\u001b[0m                                 Traceback (most recent call last)",
                        "\u001b[0;32m<ipython-input-20-f611dfc55400>\u001b[0m in \u001b[0;36m<module>\u001b[0;34m\u001b[0m\n\u001b[1;32m      1\u001b[0m \u001b[0;31m# create map of Toronto using latitude and longitude values\u001b[0m\u001b[0;34m\u001b[0m\u001b[0;34m\u001b[0m\u001b[0;34m\u001b[0m\u001b[0m\n\u001b[0;32m----> 2\u001b[0;31m \u001b[0mmap_toronto\u001b[0m \u001b[0;34m=\u001b[0m \u001b[0mfolium\u001b[0m\u001b[0;34m.\u001b[0m\u001b[0mMap\u001b[0m\u001b[0;34m(\u001b[0m\u001b[0mlocation\u001b[0m\u001b[0;34m=\u001b[0m\u001b[0;34m[\u001b[0m\u001b[0mlatitude\u001b[0m\u001b[0;34m,\u001b[0m \u001b[0mlongitude\u001b[0m\u001b[0;34m]\u001b[0m\u001b[0;34m,\u001b[0m \u001b[0mzoom_start\u001b[0m\u001b[0;34m=\u001b[0m\u001b[0;36m10\u001b[0m\u001b[0;34m)\u001b[0m\u001b[0;34m\u001b[0m\u001b[0;34m\u001b[0m\u001b[0m\n\u001b[0m\u001b[1;32m      3\u001b[0m \u001b[0;34m\u001b[0m\u001b[0m\n\u001b[1;32m      4\u001b[0m \u001b[0;31m# add markers to map\u001b[0m\u001b[0;34m\u001b[0m\u001b[0;34m\u001b[0m\u001b[0;34m\u001b[0m\u001b[0m\n\u001b[1;32m      5\u001b[0m \u001b[0;32mfor\u001b[0m \u001b[0mlat\u001b[0m\u001b[0;34m,\u001b[0m \u001b[0mlng\u001b[0m\u001b[0;34m,\u001b[0m \u001b[0mborough\u001b[0m\u001b[0;34m,\u001b[0m \u001b[0mneighborhood\u001b[0m \u001b[0;32min\u001b[0m \u001b[0mzip\u001b[0m\u001b[0;34m(\u001b[0m\u001b[0mdf4\u001b[0m\u001b[0;34m[\u001b[0m\u001b[0;34m'Latitude'\u001b[0m\u001b[0;34m]\u001b[0m\u001b[0;34m,\u001b[0m \u001b[0mdf4\u001b[0m\u001b[0;34m[\u001b[0m\u001b[0;34m'Longitude'\u001b[0m\u001b[0;34m]\u001b[0m\u001b[0;34m,\u001b[0m \u001b[0mdf4\u001b[0m\u001b[0;34m[\u001b[0m\u001b[0;34m'Borough'\u001b[0m\u001b[0;34m]\u001b[0m\u001b[0;34m,\u001b[0m \u001b[0mdf4\u001b[0m\u001b[0;34m[\u001b[0m\u001b[0;34m'Neighborhood'\u001b[0m\u001b[0;34m]\u001b[0m\u001b[0;34m)\u001b[0m\u001b[0;34m:\u001b[0m\u001b[0;34m\u001b[0m\u001b[0;34m\u001b[0m\u001b[0m\n",
                        "\u001b[0;31mNameError\u001b[0m: name 'folium' is not defined"
                    ]
                }
            ]
        },
        {
            "metadata": {},
            "cell_type": "markdown",
            "source": "### Narrow down to one Borough and map it "
        },
        {
            "metadata": {},
            "cell_type": "code",
            "source": "borough = 'Central Toronto'\ndf5 = df4[df4['Borough'] == borough].reset_index(drop=True)\ndf5.head() ",
            "execution_count": 21,
            "outputs": [
                {
                    "output_type": "execute_result",
                    "execution_count": 21,
                    "data": {
                        "text/plain": "  Postal Code          Borough  \\\n0         M4N  Central Toronto   \n1         M5N  Central Toronto   \n2         M4P  Central Toronto   \n3         M5P  Central Toronto   \n4         M4R  Central Toronto   \n\n                                      Neighborhood   Latitude  Longitude  \n0                                    Lawrence Park  43.728020 -79.388790  \n1                                         Roselawn  43.711695 -79.416936  \n2                                 Davisville North  43.712751 -79.390197  \n3  Forest Hill North & West, Forest Hill Road Park  43.696948 -79.411307  \n4                North Toronto West, Lawrence Park  43.715383 -79.405678  ",
                        "text/html": "<div>\n<style scoped>\n    .dataframe tbody tr th:only-of-type {\n        vertical-align: middle;\n    }\n\n    .dataframe tbody tr th {\n        vertical-align: top;\n    }\n\n    .dataframe thead th {\n        text-align: right;\n    }\n</style>\n<table border=\"1\" class=\"dataframe\">\n  <thead>\n    <tr style=\"text-align: right;\">\n      <th></th>\n      <th>Postal Code</th>\n      <th>Borough</th>\n      <th>Neighborhood</th>\n      <th>Latitude</th>\n      <th>Longitude</th>\n    </tr>\n  </thead>\n  <tbody>\n    <tr>\n      <th>0</th>\n      <td>M4N</td>\n      <td>Central Toronto</td>\n      <td>Lawrence Park</td>\n      <td>43.728020</td>\n      <td>-79.388790</td>\n    </tr>\n    <tr>\n      <th>1</th>\n      <td>M5N</td>\n      <td>Central Toronto</td>\n      <td>Roselawn</td>\n      <td>43.711695</td>\n      <td>-79.416936</td>\n    </tr>\n    <tr>\n      <th>2</th>\n      <td>M4P</td>\n      <td>Central Toronto</td>\n      <td>Davisville North</td>\n      <td>43.712751</td>\n      <td>-79.390197</td>\n    </tr>\n    <tr>\n      <th>3</th>\n      <td>M5P</td>\n      <td>Central Toronto</td>\n      <td>Forest Hill North &amp; West, Forest Hill Road Park</td>\n      <td>43.696948</td>\n      <td>-79.411307</td>\n    </tr>\n    <tr>\n      <th>4</th>\n      <td>M4R</td>\n      <td>Central Toronto</td>\n      <td>North Toronto West, Lawrence Park</td>\n      <td>43.715383</td>\n      <td>-79.405678</td>\n    </tr>\n  </tbody>\n</table>\n</div>"
                    },
                    "metadata": {}
                }
            ]
        },
        {
            "metadata": {},
            "cell_type": "code",
            "source": "address = borough + ', Ontario, CA'\n\ngeolocator = Nominatim(user_agent=\"borough_explorer\")\nlocation = geolocator.geocode(address)\nlatitude = location.latitude\nlongitude = location.longitude\n\n# create map of borough using latitude and longitude values\nmap_borough = folium.Map(location=[latitude, longitude], zoom_start=10)\n\n# add markers to map\nfor lat, lng, borough, neighborhood in zip(df5['Latitude'], df5['Longitude'], df5['Borough'], df5['Neighborhood']):\n    label = '{}, {}'.format(neighborhood, borough)\n    label = folium.Popup(label, parse_html=True)\n    folium.CircleMarker(\n        [lat, lng],\n        radius=5,\n        popup=label,\n        color='purple',\n        fill=True,\n        fill_color='#CC8899',\n        fill_opacity=0.7,\n        parse_html=False).add_to(map_borough)  \n    \nmap_borough ",
            "execution_count": 22,
            "outputs": [
                {
                    "output_type": "error",
                    "ename": "NameError",
                    "evalue": "name 'folium' is not defined",
                    "traceback": [
                        "\u001b[0;31m---------------------------------------------------------------------------\u001b[0m",
                        "\u001b[0;31mNameError\u001b[0m                                 Traceback (most recent call last)",
                        "\u001b[0;32m<ipython-input-22-e5c1ce762446>\u001b[0m in \u001b[0;36m<module>\u001b[0;34m\u001b[0m\n\u001b[1;32m      7\u001b[0m \u001b[0;34m\u001b[0m\u001b[0m\n\u001b[1;32m      8\u001b[0m \u001b[0;31m# create map of borough using latitude and longitude values\u001b[0m\u001b[0;34m\u001b[0m\u001b[0;34m\u001b[0m\u001b[0;34m\u001b[0m\u001b[0m\n\u001b[0;32m----> 9\u001b[0;31m \u001b[0mmap_borough\u001b[0m \u001b[0;34m=\u001b[0m \u001b[0mfolium\u001b[0m\u001b[0;34m.\u001b[0m\u001b[0mMap\u001b[0m\u001b[0;34m(\u001b[0m\u001b[0mlocation\u001b[0m\u001b[0;34m=\u001b[0m\u001b[0;34m[\u001b[0m\u001b[0mlatitude\u001b[0m\u001b[0;34m,\u001b[0m \u001b[0mlongitude\u001b[0m\u001b[0;34m]\u001b[0m\u001b[0;34m,\u001b[0m \u001b[0mzoom_start\u001b[0m\u001b[0;34m=\u001b[0m\u001b[0;36m10\u001b[0m\u001b[0;34m)\u001b[0m\u001b[0;34m\u001b[0m\u001b[0;34m\u001b[0m\u001b[0m\n\u001b[0m\u001b[1;32m     10\u001b[0m \u001b[0;34m\u001b[0m\u001b[0m\n\u001b[1;32m     11\u001b[0m \u001b[0;31m# add markers to map\u001b[0m\u001b[0;34m\u001b[0m\u001b[0;34m\u001b[0m\u001b[0;34m\u001b[0m\u001b[0m\n",
                        "\u001b[0;31mNameError\u001b[0m: name 'folium' is not defined"
                    ]
                }
            ]
        },
        {
            "metadata": {},
            "cell_type": "markdown",
            "source": "### Define Foursquare Credentials and Version "
        },
        {
            "metadata": {},
            "cell_type": "code",
            "source": "CLIENT_ID = 'XBM5I2IHZZTLDUAZW5FOO1OFMSA0WLFGGJMGRSHWVHCHYTVY' # your Foursquare ID\nCLIENT_SECRET = 'H2XRBU1HAD2EIPKIXPOKOXPXT3OITIH40TOJNOSKZFUX435D' # your Foursquare Secret\nVERSION = '20180605' # Foursquare API version ",
            "execution_count": 23,
            "outputs": []
        },
        {
            "metadata": {},
            "cell_type": "markdown",
            "source": "### Define function to retrieve the top 100 venues in a 500m radius "
        },
        {
            "metadata": {},
            "cell_type": "code",
            "source": "def getNearbyVenues(names, latitudes, longitudes, radius=500, LIMIT=100):\n    \n    venues_list=[]\n    for name, lat, lng in zip(names, latitudes, longitudes):\n        print(name)\n            \n        # creates the API request URL\n        url = 'https://api.foursquare.com/v2/venues/explore?&client_id={}&client_secret={}&v={}&ll={},{}&radius={}&limit={}'.format(\n            CLIENT_ID, \n            CLIENT_SECRET, \n            VERSION, \n            lat, \n            lng, \n            radius, \n            LIMIT)\n            \n        # makes the get request\n        results = requests.get(url).json()[\"response\"]['groups'][0]['items']\n        \n        # returns only relevant information for each close venue\n        venues_list.append([(\n            name, \n            lat, \n            lng, \n            v['venue']['name'], \n            v['venue']['location']['lat'], \n            v['venue']['location']['lng'],  \n            v['venue']['categories'][0]['name']) for v in results])\n\n    nearby_venues = pd.DataFrame([item for venue_list in venues_list for item in venue_list])\n    nearby_venues.columns = ['Neighborhood', \n                  'Neighborhood Latitude', \n                  'Neighborhood Longitude', \n                  'Venue', \n                  'Venue Latitude', \n                  'Venue Longitude', \n                  'Venue Category']\n    \n    return(nearby_venues) ",
            "execution_count": 24,
            "outputs": []
        },
        {
            "metadata": {},
            "cell_type": "markdown",
            "source": "### Call the method "
        },
        {
            "metadata": {},
            "cell_type": "code",
            "source": "venues = getNearbyVenues(names=df5['Neighborhood'],\n                                   latitudes=df5['Latitude'],\n                                   longitudes=df5['Longitude']\n                                  ) ",
            "execution_count": 25,
            "outputs": [
                {
                    "output_type": "stream",
                    "text": "Lawrence Park\nRoselawn\nDavisville North\nForest Hill North & West, Forest Hill Road Park\nNorth Toronto West, Lawrence Park\nThe Annex, North Midtown, Yorkville\nDavisville\nMoore Park, Summerhill East\nSummerhill West, Rathnelly, South Hill, Forest Hill SE, Deer Park\n",
                    "name": "stdout"
                }
            ]
        },
        {
            "metadata": {},
            "cell_type": "markdown",
            "source": "### Get some information about the resulting dataframe "
        },
        {
            "metadata": {},
            "cell_type": "code",
            "source": "# Shape and Size of dataframe\nprint(venues.shape)\nvenues.head() ",
            "execution_count": 26,
            "outputs": [
                {
                    "output_type": "stream",
                    "text": "(112, 7)\n",
                    "name": "stdout"
                },
                {
                    "output_type": "execute_result",
                    "execution_count": 26,
                    "data": {
                        "text/plain": "    Neighborhood  Neighborhood Latitude  Neighborhood Longitude  \\\n0  Lawrence Park              43.728020              -79.388790   \n1  Lawrence Park              43.728020              -79.388790   \n2  Lawrence Park              43.728020              -79.388790   \n3  Lawrence Park              43.728020              -79.388790   \n4       Roselawn              43.711695              -79.416936   \n\n                            Venue  Venue Latitude  Venue Longitude  \\\n0            Lawrence Park Ravine       43.726963       -79.394382   \n1                  Dim Sum Deluxe       43.726953       -79.394260   \n2              Zodiac Swim School       43.728532       -79.382860   \n3  TTC Bus #162 - Lawrence-Donway       43.728026       -79.382805   \n4               Ceiling Champions       43.713891       -79.420702   \n\n       Venue Category  \n0                Park  \n1  Dim Sum Restaurant  \n2         Swim School  \n3            Bus Line  \n4        Home Service  ",
                        "text/html": "<div>\n<style scoped>\n    .dataframe tbody tr th:only-of-type {\n        vertical-align: middle;\n    }\n\n    .dataframe tbody tr th {\n        vertical-align: top;\n    }\n\n    .dataframe thead th {\n        text-align: right;\n    }\n</style>\n<table border=\"1\" class=\"dataframe\">\n  <thead>\n    <tr style=\"text-align: right;\">\n      <th></th>\n      <th>Neighborhood</th>\n      <th>Neighborhood Latitude</th>\n      <th>Neighborhood Longitude</th>\n      <th>Venue</th>\n      <th>Venue Latitude</th>\n      <th>Venue Longitude</th>\n      <th>Venue Category</th>\n    </tr>\n  </thead>\n  <tbody>\n    <tr>\n      <th>0</th>\n      <td>Lawrence Park</td>\n      <td>43.728020</td>\n      <td>-79.388790</td>\n      <td>Lawrence Park Ravine</td>\n      <td>43.726963</td>\n      <td>-79.394382</td>\n      <td>Park</td>\n    </tr>\n    <tr>\n      <th>1</th>\n      <td>Lawrence Park</td>\n      <td>43.728020</td>\n      <td>-79.388790</td>\n      <td>Dim Sum Deluxe</td>\n      <td>43.726953</td>\n      <td>-79.394260</td>\n      <td>Dim Sum Restaurant</td>\n    </tr>\n    <tr>\n      <th>2</th>\n      <td>Lawrence Park</td>\n      <td>43.728020</td>\n      <td>-79.388790</td>\n      <td>Zodiac Swim School</td>\n      <td>43.728532</td>\n      <td>-79.382860</td>\n      <td>Swim School</td>\n    </tr>\n    <tr>\n      <th>3</th>\n      <td>Lawrence Park</td>\n      <td>43.728020</td>\n      <td>-79.388790</td>\n      <td>TTC Bus #162 - Lawrence-Donway</td>\n      <td>43.728026</td>\n      <td>-79.382805</td>\n      <td>Bus Line</td>\n    </tr>\n    <tr>\n      <th>4</th>\n      <td>Roselawn</td>\n      <td>43.711695</td>\n      <td>-79.416936</td>\n      <td>Ceiling Champions</td>\n      <td>43.713891</td>\n      <td>-79.420702</td>\n      <td>Home Service</td>\n    </tr>\n  </tbody>\n</table>\n</div>"
                    },
                    "metadata": {}
                }
            ]
        },
        {
            "metadata": {},
            "cell_type": "code",
            "source": "# Venues returned for each neighborhood\nvenues.groupby('Neighborhood').count() ",
            "execution_count": 27,
            "outputs": [
                {
                    "output_type": "execute_result",
                    "execution_count": 27,
                    "data": {
                        "text/plain": "                                                    Neighborhood Latitude  \\\nNeighborhood                                                                \nDavisville                                                             34   \nDavisville North                                                       10   \nForest Hill North & West, Forest Hill Road Park                         4   \nLawrence Park                                                           4   \nMoore Park, Summerhill East                                             4   \nNorth Toronto West, Lawrence Park                                      17   \nRoselawn                                                                2   \nSummerhill West, Rathnelly, South Hill, Forest ...                     17   \nThe Annex, North Midtown, Yorkville                                    20   \n\n                                                    Neighborhood Longitude  \\\nNeighborhood                                                                 \nDavisville                                                              34   \nDavisville North                                                        10   \nForest Hill North & West, Forest Hill Road Park                          4   \nLawrence Park                                                            4   \nMoore Park, Summerhill East                                              4   \nNorth Toronto West, Lawrence Park                                       17   \nRoselawn                                                                 2   \nSummerhill West, Rathnelly, South Hill, Forest ...                      17   \nThe Annex, North Midtown, Yorkville                                     20   \n\n                                                    Venue  Venue Latitude  \\\nNeighborhood                                                                \nDavisville                                             34              34   \nDavisville North                                       10              10   \nForest Hill North & West, Forest Hill Road Park         4               4   \nLawrence Park                                           4               4   \nMoore Park, Summerhill East                             4               4   \nNorth Toronto West, Lawrence Park                      17              17   \nRoselawn                                                2               2   \nSummerhill West, Rathnelly, South Hill, Forest ...     17              17   \nThe Annex, North Midtown, Yorkville                    20              20   \n\n                                                    Venue Longitude  \\\nNeighborhood                                                          \nDavisville                                                       34   \nDavisville North                                                 10   \nForest Hill North & West, Forest Hill Road Park                   4   \nLawrence Park                                                     4   \nMoore Park, Summerhill East                                       4   \nNorth Toronto West, Lawrence Park                                17   \nRoselawn                                                          2   \nSummerhill West, Rathnelly, South Hill, Forest ...               17   \nThe Annex, North Midtown, Yorkville                              20   \n\n                                                    Venue Category  \nNeighborhood                                                        \nDavisville                                                      34  \nDavisville North                                                10  \nForest Hill North & West, Forest Hill Road Park                  4  \nLawrence Park                                                    4  \nMoore Park, Summerhill East                                      4  \nNorth Toronto West, Lawrence Park                               17  \nRoselawn                                                         2  \nSummerhill West, Rathnelly, South Hill, Forest ...              17  \nThe Annex, North Midtown, Yorkville                             20  ",
                        "text/html": "<div>\n<style scoped>\n    .dataframe tbody tr th:only-of-type {\n        vertical-align: middle;\n    }\n\n    .dataframe tbody tr th {\n        vertical-align: top;\n    }\n\n    .dataframe thead th {\n        text-align: right;\n    }\n</style>\n<table border=\"1\" class=\"dataframe\">\n  <thead>\n    <tr style=\"text-align: right;\">\n      <th></th>\n      <th>Neighborhood Latitude</th>\n      <th>Neighborhood Longitude</th>\n      <th>Venue</th>\n      <th>Venue Latitude</th>\n      <th>Venue Longitude</th>\n      <th>Venue Category</th>\n    </tr>\n    <tr>\n      <th>Neighborhood</th>\n      <th></th>\n      <th></th>\n      <th></th>\n      <th></th>\n      <th></th>\n      <th></th>\n    </tr>\n  </thead>\n  <tbody>\n    <tr>\n      <th>Davisville</th>\n      <td>34</td>\n      <td>34</td>\n      <td>34</td>\n      <td>34</td>\n      <td>34</td>\n      <td>34</td>\n    </tr>\n    <tr>\n      <th>Davisville North</th>\n      <td>10</td>\n      <td>10</td>\n      <td>10</td>\n      <td>10</td>\n      <td>10</td>\n      <td>10</td>\n    </tr>\n    <tr>\n      <th>Forest Hill North &amp; West, Forest Hill Road Park</th>\n      <td>4</td>\n      <td>4</td>\n      <td>4</td>\n      <td>4</td>\n      <td>4</td>\n      <td>4</td>\n    </tr>\n    <tr>\n      <th>Lawrence Park</th>\n      <td>4</td>\n      <td>4</td>\n      <td>4</td>\n      <td>4</td>\n      <td>4</td>\n      <td>4</td>\n    </tr>\n    <tr>\n      <th>Moore Park, Summerhill East</th>\n      <td>4</td>\n      <td>4</td>\n      <td>4</td>\n      <td>4</td>\n      <td>4</td>\n      <td>4</td>\n    </tr>\n    <tr>\n      <th>North Toronto West, Lawrence Park</th>\n      <td>17</td>\n      <td>17</td>\n      <td>17</td>\n      <td>17</td>\n      <td>17</td>\n      <td>17</td>\n    </tr>\n    <tr>\n      <th>Roselawn</th>\n      <td>2</td>\n      <td>2</td>\n      <td>2</td>\n      <td>2</td>\n      <td>2</td>\n      <td>2</td>\n    </tr>\n    <tr>\n      <th>Summerhill West, Rathnelly, South Hill, Forest Hill SE, Deer Park</th>\n      <td>17</td>\n      <td>17</td>\n      <td>17</td>\n      <td>17</td>\n      <td>17</td>\n      <td>17</td>\n    </tr>\n    <tr>\n      <th>The Annex, North Midtown, Yorkville</th>\n      <td>20</td>\n      <td>20</td>\n      <td>20</td>\n      <td>20</td>\n      <td>20</td>\n      <td>20</td>\n    </tr>\n  </tbody>\n</table>\n</div>"
                    },
                    "metadata": {}
                }
            ]
        },
        {
            "metadata": {},
            "cell_type": "code",
            "source": "# Number of unique categories from all returned venues\nprint('There are {} uniques categories.'.format(len(venues['Venue Category'].unique()))) ",
            "execution_count": 28,
            "outputs": [
                {
                    "output_type": "stream",
                    "text": "There are 62 uniques categories.\n",
                    "name": "stdout"
                }
            ]
        },
        {
            "metadata": {},
            "cell_type": "markdown",
            "source": "### Analyze Each Neighborhood "
        },
        {
            "metadata": {},
            "cell_type": "code",
            "source": "# one hot encoding\nvenues_onehot = pd.get_dummies(venues[['Venue Category']], prefix=\"\", prefix_sep=\"\")\n\n# add neighborhood column back to dataframe\nvenues_onehot['Neighborhood'] = venues['Neighborhood'] \n\n# move neighborhood column to the first column\nfixed_columns = [venues_onehot.columns[-1]] + list(venues_onehot.columns[:-1])\nvenues_onehot = venues_onehot[fixed_columns]\n\nvenues_onehot.head() ",
            "execution_count": 29,
            "outputs": [
                {
                    "output_type": "execute_result",
                    "execution_count": 29,
                    "data": {
                        "text/plain": "    Neighborhood  American Restaurant  BBQ Joint  Bagel Shop  Bank  \\\n0  Lawrence Park                    0          0           0     0   \n1  Lawrence Park                    0          0           0     0   \n2  Lawrence Park                    0          0           0     0   \n3  Lawrence Park                    0          0           0     0   \n4       Roselawn                    0          0           0     0   \n\n   Breakfast Spot  Brewery  Burger Joint  Bus Line  Caf\u00e9  ...  Supermarket  \\\n0               0        0             0         0     0  ...            0   \n1               0        0             0         0     0  ...            0   \n2               0        0             0         0     0  ...            0   \n3               0        0             0         1     0  ...            0   \n4               0        0             0         0     0  ...            0   \n\n   Sushi Restaurant  Swim School  Tennis Court  Thai Restaurant  \\\n0                 0            0             0                0   \n1                 0            0             0                0   \n2                 0            1             0                0   \n3                 0            0             0                0   \n4                 0            0             0                0   \n\n   Toy / Game Store  Trail  Vegetarian / Vegan Restaurant  \\\n0                 0      0                              0   \n1                 0      0                              0   \n2                 0      0                              0   \n3                 0      0                              0   \n4                 0      0                              0   \n\n   Vietnamese Restaurant  Yoga Studio  \n0                      0            0  \n1                      0            0  \n2                      0            0  \n3                      0            0  \n4                      0            0  \n\n[5 rows x 63 columns]",
                        "text/html": "<div>\n<style scoped>\n    .dataframe tbody tr th:only-of-type {\n        vertical-align: middle;\n    }\n\n    .dataframe tbody tr th {\n        vertical-align: top;\n    }\n\n    .dataframe thead th {\n        text-align: right;\n    }\n</style>\n<table border=\"1\" class=\"dataframe\">\n  <thead>\n    <tr style=\"text-align: right;\">\n      <th></th>\n      <th>Neighborhood</th>\n      <th>American Restaurant</th>\n      <th>BBQ Joint</th>\n      <th>Bagel Shop</th>\n      <th>Bank</th>\n      <th>Breakfast Spot</th>\n      <th>Brewery</th>\n      <th>Burger Joint</th>\n      <th>Bus Line</th>\n      <th>Caf\u00e9</th>\n      <th>...</th>\n      <th>Supermarket</th>\n      <th>Sushi Restaurant</th>\n      <th>Swim School</th>\n      <th>Tennis Court</th>\n      <th>Thai Restaurant</th>\n      <th>Toy / Game Store</th>\n      <th>Trail</th>\n      <th>Vegetarian / Vegan Restaurant</th>\n      <th>Vietnamese Restaurant</th>\n      <th>Yoga Studio</th>\n    </tr>\n  </thead>\n  <tbody>\n    <tr>\n      <th>0</th>\n      <td>Lawrence Park</td>\n      <td>0</td>\n      <td>0</td>\n      <td>0</td>\n      <td>0</td>\n      <td>0</td>\n      <td>0</td>\n      <td>0</td>\n      <td>0</td>\n      <td>0</td>\n      <td>...</td>\n      <td>0</td>\n      <td>0</td>\n      <td>0</td>\n      <td>0</td>\n      <td>0</td>\n      <td>0</td>\n      <td>0</td>\n      <td>0</td>\n      <td>0</td>\n      <td>0</td>\n    </tr>\n    <tr>\n      <th>1</th>\n      <td>Lawrence Park</td>\n      <td>0</td>\n      <td>0</td>\n      <td>0</td>\n      <td>0</td>\n      <td>0</td>\n      <td>0</td>\n      <td>0</td>\n      <td>0</td>\n      <td>0</td>\n      <td>...</td>\n      <td>0</td>\n      <td>0</td>\n      <td>0</td>\n      <td>0</td>\n      <td>0</td>\n      <td>0</td>\n      <td>0</td>\n      <td>0</td>\n      <td>0</td>\n      <td>0</td>\n    </tr>\n    <tr>\n      <th>2</th>\n      <td>Lawrence Park</td>\n      <td>0</td>\n      <td>0</td>\n      <td>0</td>\n      <td>0</td>\n      <td>0</td>\n      <td>0</td>\n      <td>0</td>\n      <td>0</td>\n      <td>0</td>\n      <td>...</td>\n      <td>0</td>\n      <td>0</td>\n      <td>1</td>\n      <td>0</td>\n      <td>0</td>\n      <td>0</td>\n      <td>0</td>\n      <td>0</td>\n      <td>0</td>\n      <td>0</td>\n    </tr>\n    <tr>\n      <th>3</th>\n      <td>Lawrence Park</td>\n      <td>0</td>\n      <td>0</td>\n      <td>0</td>\n      <td>0</td>\n      <td>0</td>\n      <td>0</td>\n      <td>0</td>\n      <td>1</td>\n      <td>0</td>\n      <td>...</td>\n      <td>0</td>\n      <td>0</td>\n      <td>0</td>\n      <td>0</td>\n      <td>0</td>\n      <td>0</td>\n      <td>0</td>\n      <td>0</td>\n      <td>0</td>\n      <td>0</td>\n    </tr>\n    <tr>\n      <th>4</th>\n      <td>Roselawn</td>\n      <td>0</td>\n      <td>0</td>\n      <td>0</td>\n      <td>0</td>\n      <td>0</td>\n      <td>0</td>\n      <td>0</td>\n      <td>0</td>\n      <td>0</td>\n      <td>...</td>\n      <td>0</td>\n      <td>0</td>\n      <td>0</td>\n      <td>0</td>\n      <td>0</td>\n      <td>0</td>\n      <td>0</td>\n      <td>0</td>\n      <td>0</td>\n      <td>0</td>\n    </tr>\n  </tbody>\n</table>\n<p>5 rows \u00d7 63 columns</p>\n</div>"
                    },
                    "metadata": {}
                }
            ]
        },
        {
            "metadata": {},
            "cell_type": "markdown",
            "source": "#### Group rows by neighborhood by taking the mean of the frequency of occurrence of each category  "
        },
        {
            "metadata": {},
            "cell_type": "code",
            "source": "grouped = venues_onehot.groupby('Neighborhood').mean().reset_index()\ngrouped ",
            "execution_count": 30,
            "outputs": [
                {
                    "output_type": "execute_result",
                    "execution_count": 30,
                    "data": {
                        "text/plain": "                                        Neighborhood  American Restaurant  \\\n0                                         Davisville             0.000000   \n1                                   Davisville North             0.000000   \n2    Forest Hill North & West, Forest Hill Road Park             0.000000   \n3                                      Lawrence Park             0.000000   \n4                        Moore Park, Summerhill East             0.000000   \n5                  North Toronto West, Lawrence Park             0.000000   \n6                                           Roselawn             0.000000   \n7  Summerhill West, Rathnelly, South Hill, Forest...             0.058824   \n8                The Annex, North Midtown, Yorkville             0.000000   \n\n   BBQ Joint  Bagel Shop      Bank  Breakfast Spot   Brewery  Burger Joint  \\\n0       0.00    0.000000  0.000000             0.0  0.029412          0.00   \n1       0.00    0.000000  0.000000             0.1  0.000000          0.00   \n2       0.00    0.000000  0.000000             0.0  0.000000          0.00   \n3       0.00    0.000000  0.000000             0.0  0.000000          0.00   \n4       0.00    0.000000  0.000000             0.0  0.000000          0.00   \n5       0.00    0.000000  0.000000             0.0  0.000000          0.00   \n6       0.00    0.000000  0.000000             0.0  0.000000          0.00   \n7       0.00    0.058824  0.058824             0.0  0.000000          0.00   \n8       0.05    0.000000  0.000000             0.0  0.000000          0.05   \n\n   Bus Line      Caf\u00e9  ...  Supermarket  Sushi Restaurant  Swim School  \\\n0      0.00  0.058824  ...     0.000000          0.058824         0.00   \n1      0.00  0.000000  ...     0.000000          0.000000         0.00   \n2      0.00  0.000000  ...     0.000000          0.250000         0.00   \n3      0.25  0.000000  ...     0.000000          0.000000         0.25   \n4      0.00  0.000000  ...     0.000000          0.000000         0.00   \n5      0.00  0.058824  ...     0.000000          0.000000         0.00   \n6      0.00  0.000000  ...     0.000000          0.000000         0.00   \n7      0.00  0.000000  ...     0.058824          0.058824         0.00   \n8      0.00  0.150000  ...     0.000000          0.000000         0.00   \n\n   Tennis Court  Thai Restaurant  Toy / Game Store  Trail  \\\n0      0.029412         0.029412          0.029412   0.00   \n1      0.000000         0.000000          0.000000   0.00   \n2      0.000000         0.000000          0.000000   0.25   \n3      0.000000         0.000000          0.000000   0.00   \n4      0.000000         0.000000          0.000000   0.25   \n5      0.000000         0.000000          0.000000   0.00   \n6      0.000000         0.000000          0.000000   0.00   \n7      0.000000         0.000000          0.000000   0.00   \n8      0.000000         0.000000          0.000000   0.00   \n\n   Vegetarian / Vegan Restaurant  Vietnamese Restaurant  Yoga Studio  \n0                           0.00               0.000000     0.000000  \n1                           0.00               0.000000     0.000000  \n2                           0.00               0.000000     0.000000  \n3                           0.00               0.000000     0.000000  \n4                           0.00               0.000000     0.000000  \n5                           0.00               0.000000     0.058824  \n6                           0.00               0.000000     0.000000  \n7                           0.00               0.058824     0.000000  \n8                           0.05               0.000000     0.000000  \n\n[9 rows x 63 columns]",
                        "text/html": "<div>\n<style scoped>\n    .dataframe tbody tr th:only-of-type {\n        vertical-align: middle;\n    }\n\n    .dataframe tbody tr th {\n        vertical-align: top;\n    }\n\n    .dataframe thead th {\n        text-align: right;\n    }\n</style>\n<table border=\"1\" class=\"dataframe\">\n  <thead>\n    <tr style=\"text-align: right;\">\n      <th></th>\n      <th>Neighborhood</th>\n      <th>American Restaurant</th>\n      <th>BBQ Joint</th>\n      <th>Bagel Shop</th>\n      <th>Bank</th>\n      <th>Breakfast Spot</th>\n      <th>Brewery</th>\n      <th>Burger Joint</th>\n      <th>Bus Line</th>\n      <th>Caf\u00e9</th>\n      <th>...</th>\n      <th>Supermarket</th>\n      <th>Sushi Restaurant</th>\n      <th>Swim School</th>\n      <th>Tennis Court</th>\n      <th>Thai Restaurant</th>\n      <th>Toy / Game Store</th>\n      <th>Trail</th>\n      <th>Vegetarian / Vegan Restaurant</th>\n      <th>Vietnamese Restaurant</th>\n      <th>Yoga Studio</th>\n    </tr>\n  </thead>\n  <tbody>\n    <tr>\n      <th>0</th>\n      <td>Davisville</td>\n      <td>0.000000</td>\n      <td>0.00</td>\n      <td>0.000000</td>\n      <td>0.000000</td>\n      <td>0.0</td>\n      <td>0.029412</td>\n      <td>0.00</td>\n      <td>0.00</td>\n      <td>0.058824</td>\n      <td>...</td>\n      <td>0.000000</td>\n      <td>0.058824</td>\n      <td>0.00</td>\n      <td>0.029412</td>\n      <td>0.029412</td>\n      <td>0.029412</td>\n      <td>0.00</td>\n      <td>0.00</td>\n      <td>0.000000</td>\n      <td>0.000000</td>\n    </tr>\n    <tr>\n      <th>1</th>\n      <td>Davisville North</td>\n      <td>0.000000</td>\n      <td>0.00</td>\n      <td>0.000000</td>\n      <td>0.000000</td>\n      <td>0.1</td>\n      <td>0.000000</td>\n      <td>0.00</td>\n      <td>0.00</td>\n      <td>0.000000</td>\n      <td>...</td>\n      <td>0.000000</td>\n      <td>0.000000</td>\n      <td>0.00</td>\n      <td>0.000000</td>\n      <td>0.000000</td>\n      <td>0.000000</td>\n      <td>0.00</td>\n      <td>0.00</td>\n      <td>0.000000</td>\n      <td>0.000000</td>\n    </tr>\n    <tr>\n      <th>2</th>\n      <td>Forest Hill North &amp; West, Forest Hill Road Park</td>\n      <td>0.000000</td>\n      <td>0.00</td>\n      <td>0.000000</td>\n      <td>0.000000</td>\n      <td>0.0</td>\n      <td>0.000000</td>\n      <td>0.00</td>\n      <td>0.00</td>\n      <td>0.000000</td>\n      <td>...</td>\n      <td>0.000000</td>\n      <td>0.250000</td>\n      <td>0.00</td>\n      <td>0.000000</td>\n      <td>0.000000</td>\n      <td>0.000000</td>\n      <td>0.25</td>\n      <td>0.00</td>\n      <td>0.000000</td>\n      <td>0.000000</td>\n    </tr>\n    <tr>\n      <th>3</th>\n      <td>Lawrence Park</td>\n      <td>0.000000</td>\n      <td>0.00</td>\n      <td>0.000000</td>\n      <td>0.000000</td>\n      <td>0.0</td>\n      <td>0.000000</td>\n      <td>0.00</td>\n      <td>0.25</td>\n      <td>0.000000</td>\n      <td>...</td>\n      <td>0.000000</td>\n      <td>0.000000</td>\n      <td>0.25</td>\n      <td>0.000000</td>\n      <td>0.000000</td>\n      <td>0.000000</td>\n      <td>0.00</td>\n      <td>0.00</td>\n      <td>0.000000</td>\n      <td>0.000000</td>\n    </tr>\n    <tr>\n      <th>4</th>\n      <td>Moore Park, Summerhill East</td>\n      <td>0.000000</td>\n      <td>0.00</td>\n      <td>0.000000</td>\n      <td>0.000000</td>\n      <td>0.0</td>\n      <td>0.000000</td>\n      <td>0.00</td>\n      <td>0.00</td>\n      <td>0.000000</td>\n      <td>...</td>\n      <td>0.000000</td>\n      <td>0.000000</td>\n      <td>0.00</td>\n      <td>0.000000</td>\n      <td>0.000000</td>\n      <td>0.000000</td>\n      <td>0.25</td>\n      <td>0.00</td>\n      <td>0.000000</td>\n      <td>0.000000</td>\n    </tr>\n    <tr>\n      <th>5</th>\n      <td>North Toronto West, Lawrence Park</td>\n      <td>0.000000</td>\n      <td>0.00</td>\n      <td>0.000000</td>\n      <td>0.000000</td>\n      <td>0.0</td>\n      <td>0.000000</td>\n      <td>0.00</td>\n      <td>0.00</td>\n      <td>0.058824</td>\n      <td>...</td>\n      <td>0.000000</td>\n      <td>0.000000</td>\n      <td>0.00</td>\n      <td>0.000000</td>\n      <td>0.000000</td>\n      <td>0.000000</td>\n      <td>0.00</td>\n      <td>0.00</td>\n      <td>0.000000</td>\n      <td>0.058824</td>\n    </tr>\n    <tr>\n      <th>6</th>\n      <td>Roselawn</td>\n      <td>0.000000</td>\n      <td>0.00</td>\n      <td>0.000000</td>\n      <td>0.000000</td>\n      <td>0.0</td>\n      <td>0.000000</td>\n      <td>0.00</td>\n      <td>0.00</td>\n      <td>0.000000</td>\n      <td>...</td>\n      <td>0.000000</td>\n      <td>0.000000</td>\n      <td>0.00</td>\n      <td>0.000000</td>\n      <td>0.000000</td>\n      <td>0.000000</td>\n      <td>0.00</td>\n      <td>0.00</td>\n      <td>0.000000</td>\n      <td>0.000000</td>\n    </tr>\n    <tr>\n      <th>7</th>\n      <td>Summerhill West, Rathnelly, South Hill, Forest...</td>\n      <td>0.058824</td>\n      <td>0.00</td>\n      <td>0.058824</td>\n      <td>0.058824</td>\n      <td>0.0</td>\n      <td>0.000000</td>\n      <td>0.00</td>\n      <td>0.00</td>\n      <td>0.000000</td>\n      <td>...</td>\n      <td>0.058824</td>\n      <td>0.058824</td>\n      <td>0.00</td>\n      <td>0.000000</td>\n      <td>0.000000</td>\n      <td>0.000000</td>\n      <td>0.00</td>\n      <td>0.00</td>\n      <td>0.058824</td>\n      <td>0.000000</td>\n    </tr>\n    <tr>\n      <th>8</th>\n      <td>The Annex, North Midtown, Yorkville</td>\n      <td>0.000000</td>\n      <td>0.05</td>\n      <td>0.000000</td>\n      <td>0.000000</td>\n      <td>0.0</td>\n      <td>0.000000</td>\n      <td>0.05</td>\n      <td>0.00</td>\n      <td>0.150000</td>\n      <td>...</td>\n      <td>0.000000</td>\n      <td>0.000000</td>\n      <td>0.00</td>\n      <td>0.000000</td>\n      <td>0.000000</td>\n      <td>0.000000</td>\n      <td>0.00</td>\n      <td>0.05</td>\n      <td>0.000000</td>\n      <td>0.000000</td>\n    </tr>\n  </tbody>\n</table>\n<p>9 rows \u00d7 63 columns</p>\n</div>"
                    },
                    "metadata": {}
                }
            ]
        },
        {
            "metadata": {},
            "cell_type": "markdown",
            "source": "#### Print each neighborhood and it's top 5 most common venues  "
        },
        {
            "metadata": {},
            "cell_type": "code",
            "source": "num_top_venues = 5\n\nfor hood in grouped['Neighborhood']:\n    print(\"----\"+hood+\"----\")\n    temp = grouped[grouped['Neighborhood'] == hood].T.reset_index()\n    temp.columns = ['venue','freq']\n    temp = temp.iloc[1:]\n    temp['freq'] = temp['freq'].astype(float)\n    temp = temp.round({'freq': 2})\n    print(temp.sort_values('freq', ascending=False).reset_index(drop=True).head(num_top_venues))\n    print('\\n') ",
            "execution_count": 32,
            "outputs": [
                {
                    "output_type": "stream",
                    "text": "----Davisville----\n                venue  freq\n0         Pizza Place  0.09\n1        Dessert Shop  0.09\n2      Sandwich Place  0.09\n3  Italian Restaurant  0.06\n4                 Gym  0.06\n\n\n----Davisville North----\n                  venue  freq\n0                 Hotel   0.1\n1  Gym / Fitness Center   0.1\n2      Department Store   0.1\n3          Dance Studio   0.1\n4           Pizza Place   0.1\n\n\n----Forest Hill North & West, Forest Hill Road Park----\n                 venue  freq\n0        Jewelry Store  0.25\n1                Trail  0.25\n2     Sushi Restaurant  0.25\n3                 Park  0.25\n4  American Restaurant  0.00\n\n\n----Lawrence Park----\n                venue  freq\n0                Park  0.25\n1         Swim School  0.25\n2  Dim Sum Restaurant  0.25\n3            Bus Line  0.25\n4          Restaurant  0.00\n\n\n----Moore Park, Summerhill East----\n                 venue  freq\n0                Trail  0.25\n1          Summer Camp  0.25\n2           Playground  0.25\n3           Restaurant  0.25\n4  American Restaurant  0.00\n\n\n----North Toronto West, Lawrence Park----\n                  venue  freq\n0        Clothing Store  0.18\n1           Coffee Shop  0.12\n2    Chinese Restaurant  0.06\n3  Fast Food Restaurant  0.06\n4   Sporting Goods Shop  0.06\n\n\n----Roselawn----\n                 venue  freq\n0         Home Service   0.5\n1               Garden   0.5\n2  American Restaurant   0.0\n3    Indian Restaurant   0.0\n4        Jewelry Store   0.0\n\n\n----Summerhill West, Rathnelly, South Hill, Forest Hill SE, Deer Park----\n                 venue  freq\n0                  Pub  0.12\n1          Coffee Shop  0.12\n2  American Restaurant  0.06\n3  Fried Chicken Joint  0.06\n4           Restaurant  0.06\n\n\n----The Annex, North Midtown, Yorkville----\n               venue  freq\n0     Sandwich Place  0.15\n1               Caf\u00e9  0.15\n2        Coffee Shop  0.10\n3         Donut Shop  0.05\n4  Indian Restaurant  0.05\n\n\n",
                    "name": "stdout"
                }
            ]
        },
        {
            "metadata": {},
            "cell_type": "markdown",
            "source": "#### Convert to pandas dataframe  "
        },
        {
            "metadata": {},
            "cell_type": "code",
            "source": "# Function to sort venues in descending order\ndef return_most_common_venues(row, num_top_venues):\n    row_categories = row.iloc[1:]\n    row_categories_sorted = row_categories.sort_values(ascending=False)\n    \n    return row_categories_sorted.index.values[0:num_top_venues] ",
            "execution_count": 33,
            "outputs": []
        },
        {
            "metadata": {},
            "cell_type": "code",
            "source": "# Create dataframe and display top 10 venues per neighborhood\n\nnum_top_venues = 10\n\nindicators = ['st', 'nd', 'rd']\n\n# Create columns according to number of top venues\ncolumns = ['Neighborhood']\nfor ind in np.arange(num_top_venues):\n    try:\n        columns.append('{}{} Most Common Venue'.format(ind+1, indicators[ind]))\n    except:\n        columns.append('{}th Most Common Venue'.format(ind+1))\n\n# Create new dataframe\nvenues_sorted = pd.DataFrame(columns=columns)\nvenues_sorted['Neighborhood'] = grouped['Neighborhood']\n\nfor ind in np.arange(grouped.shape[0]):\n    venues_sorted.iloc[ind, 1:] = return_most_common_venues(grouped.iloc[ind, :], num_top_venues)\n\nvenues_sorted.head() ",
            "execution_count": 34,
            "outputs": [
                {
                    "output_type": "execute_result",
                    "execution_count": 34,
                    "data": {
                        "text/plain": "                                      Neighborhood 1st Most Common Venue  \\\n0                                       Davisville          Dessert Shop   \n1                                 Davisville North                   Gym   \n2  Forest Hill North & West, Forest Hill Road Park      Sushi Restaurant   \n3                                    Lawrence Park                  Park   \n4                      Moore Park, Summerhill East            Restaurant   \n\n  2nd Most Common Venue 3rd Most Common Venue 4th Most Common Venue  \\\n0           Pizza Place        Sandwich Place      Sushi Restaurant   \n1     Food & Drink Shop  Gym / Fitness Center        Sandwich Place   \n2                 Trail                  Park         Jewelry Store   \n3           Swim School    Dim Sum Restaurant              Bus Line   \n4           Summer Camp            Playground                 Trail   \n\n  5th Most Common Venue 6th Most Common Venue 7th Most Common Venue  \\\n0    Italian Restaurant                   Gym           Coffee Shop   \n1      Department Store          Dance Studio                  Park   \n2   Fried Chicken Joint            Donut Shop        Farmers Market   \n3           Yoga Studio   Fried Chicken Joint            Donut Shop   \n4    Dim Sum Restaurant                 Diner            Donut Shop   \n\n  8th Most Common Venue 9th Most Common Venue 10th Most Common Venue  \n0                  Caf\u00e9          Tennis Court            Gas Station  \n1           Pizza Place        Breakfast Spot                  Hotel  \n2  Fast Food Restaurant     Food & Drink Shop            Yoga Studio  \n3        Farmers Market  Fast Food Restaurant      Food & Drink Shop  \n4        Farmers Market  Fast Food Restaurant            Yoga Studio  ",
                        "text/html": "<div>\n<style scoped>\n    .dataframe tbody tr th:only-of-type {\n        vertical-align: middle;\n    }\n\n    .dataframe tbody tr th {\n        vertical-align: top;\n    }\n\n    .dataframe thead th {\n        text-align: right;\n    }\n</style>\n<table border=\"1\" class=\"dataframe\">\n  <thead>\n    <tr style=\"text-align: right;\">\n      <th></th>\n      <th>Neighborhood</th>\n      <th>1st Most Common Venue</th>\n      <th>2nd Most Common Venue</th>\n      <th>3rd Most Common Venue</th>\n      <th>4th Most Common Venue</th>\n      <th>5th Most Common Venue</th>\n      <th>6th Most Common Venue</th>\n      <th>7th Most Common Venue</th>\n      <th>8th Most Common Venue</th>\n      <th>9th Most Common Venue</th>\n      <th>10th Most Common Venue</th>\n    </tr>\n  </thead>\n  <tbody>\n    <tr>\n      <th>0</th>\n      <td>Davisville</td>\n      <td>Dessert Shop</td>\n      <td>Pizza Place</td>\n      <td>Sandwich Place</td>\n      <td>Sushi Restaurant</td>\n      <td>Italian Restaurant</td>\n      <td>Gym</td>\n      <td>Coffee Shop</td>\n      <td>Caf\u00e9</td>\n      <td>Tennis Court</td>\n      <td>Gas Station</td>\n    </tr>\n    <tr>\n      <th>1</th>\n      <td>Davisville North</td>\n      <td>Gym</td>\n      <td>Food &amp; Drink Shop</td>\n      <td>Gym / Fitness Center</td>\n      <td>Sandwich Place</td>\n      <td>Department Store</td>\n      <td>Dance Studio</td>\n      <td>Park</td>\n      <td>Pizza Place</td>\n      <td>Breakfast Spot</td>\n      <td>Hotel</td>\n    </tr>\n    <tr>\n      <th>2</th>\n      <td>Forest Hill North &amp; West, Forest Hill Road Park</td>\n      <td>Sushi Restaurant</td>\n      <td>Trail</td>\n      <td>Park</td>\n      <td>Jewelry Store</td>\n      <td>Fried Chicken Joint</td>\n      <td>Donut Shop</td>\n      <td>Farmers Market</td>\n      <td>Fast Food Restaurant</td>\n      <td>Food &amp; Drink Shop</td>\n      <td>Yoga Studio</td>\n    </tr>\n    <tr>\n      <th>3</th>\n      <td>Lawrence Park</td>\n      <td>Park</td>\n      <td>Swim School</td>\n      <td>Dim Sum Restaurant</td>\n      <td>Bus Line</td>\n      <td>Yoga Studio</td>\n      <td>Fried Chicken Joint</td>\n      <td>Donut Shop</td>\n      <td>Farmers Market</td>\n      <td>Fast Food Restaurant</td>\n      <td>Food &amp; Drink Shop</td>\n    </tr>\n    <tr>\n      <th>4</th>\n      <td>Moore Park, Summerhill East</td>\n      <td>Restaurant</td>\n      <td>Summer Camp</td>\n      <td>Playground</td>\n      <td>Trail</td>\n      <td>Dim Sum Restaurant</td>\n      <td>Diner</td>\n      <td>Donut Shop</td>\n      <td>Farmers Market</td>\n      <td>Fast Food Restaurant</td>\n      <td>Yoga Studio</td>\n    </tr>\n  </tbody>\n</table>\n</div>"
                    },
                    "metadata": {}
                }
            ]
        },
        {
            "metadata": {},
            "cell_type": "markdown",
            "source": "# Cluster Neighborhoods "
        },
        {
            "metadata": {},
            "cell_type": "markdown",
            "source": "### Run k-means to cluster neighborhood into 5 clusters "
        },
        {
            "metadata": {},
            "cell_type": "code",
            "source": "# Set number of clusters\nkclusters = 5\n\ngrouped_clustering = grouped.drop('Neighborhood', 1)\n\n# Run k-means clustering\nkmeans = KMeans(n_clusters=kclusters, random_state=0).fit(grouped_clustering)\n\n# Check cluster labels generated for each row in the dataframe\nkmeans.labels_[0:10] ",
            "execution_count": 35,
            "outputs": [
                {
                    "output_type": "execute_result",
                    "execution_count": 35,
                    "data": {
                        "text/plain": "array([0, 0, 3, 4, 2, 0, 1, 0, 0], dtype=int32)"
                    },
                    "metadata": {}
                }
            ]
        },
        {
            "metadata": {},
            "cell_type": "markdown",
            "source": "#### Create new dataframe including the cluster as well as top 10 venues for each neighborhood "
        },
        {
            "metadata": {},
            "cell_type": "code",
            "source": "# add clustering labels\nvenues_sorted.insert(0, 'Cluster Labels', kmeans.labels_)\n\nmerged = df5\n\n# merge grouped with data to add latitude/longitude for each neighborhood\nmerged = merged.join(venues_sorted.set_index('Neighborhood'), on='Neighborhood')\n\nmerged.head() ",
            "execution_count": 36,
            "outputs": [
                {
                    "output_type": "execute_result",
                    "execution_count": 36,
                    "data": {
                        "text/plain": "  Postal Code          Borough  \\\n0         M4N  Central Toronto   \n1         M5N  Central Toronto   \n2         M4P  Central Toronto   \n3         M5P  Central Toronto   \n4         M4R  Central Toronto   \n\n                                      Neighborhood   Latitude  Longitude  \\\n0                                    Lawrence Park  43.728020 -79.388790   \n1                                         Roselawn  43.711695 -79.416936   \n2                                 Davisville North  43.712751 -79.390197   \n3  Forest Hill North & West, Forest Hill Road Park  43.696948 -79.411307   \n4                North Toronto West, Lawrence Park  43.715383 -79.405678   \n\n   Cluster Labels 1st Most Common Venue 2nd Most Common Venue  \\\n0               4                  Park           Swim School   \n1               1          Home Service                Garden   \n2               0                   Gym     Food & Drink Shop   \n3               3      Sushi Restaurant                 Trail   \n4               0        Clothing Store           Coffee Shop   \n\n  3rd Most Common Venue   4th Most Common Venue 5th Most Common Venue  \\\n0    Dim Sum Restaurant                Bus Line           Yoga Studio   \n1    Dim Sum Restaurant    Gym / Fitness Center                   Gym   \n2  Gym / Fitness Center          Sandwich Place      Department Store   \n3                  Park           Jewelry Store   Fried Chicken Joint   \n4           Yoga Studio  Furniture / Home Store  Fast Food Restaurant   \n\n  6th Most Common Venue 7th Most Common Venue 8th Most Common Venue  \\\n0   Fried Chicken Joint            Donut Shop        Farmers Market   \n1      Greek Restaurant          Gourmet Shop           Gas Station   \n2          Dance Studio                  Park           Pizza Place   \n3            Donut Shop        Farmers Market  Fast Food Restaurant   \n4    Mexican Restaurant                  Park                 Diner   \n\n    9th Most Common Venue 10th Most Common Venue  \n0    Fast Food Restaurant      Food & Drink Shop  \n1  Furniture / Home Store    Fried Chicken Joint  \n2          Breakfast Spot                  Hotel  \n3       Food & Drink Shop            Yoga Studio  \n4      Salon / Barbershop                    Spa  ",
                        "text/html": "<div>\n<style scoped>\n    .dataframe tbody tr th:only-of-type {\n        vertical-align: middle;\n    }\n\n    .dataframe tbody tr th {\n        vertical-align: top;\n    }\n\n    .dataframe thead th {\n        text-align: right;\n    }\n</style>\n<table border=\"1\" class=\"dataframe\">\n  <thead>\n    <tr style=\"text-align: right;\">\n      <th></th>\n      <th>Postal Code</th>\n      <th>Borough</th>\n      <th>Neighborhood</th>\n      <th>Latitude</th>\n      <th>Longitude</th>\n      <th>Cluster Labels</th>\n      <th>1st Most Common Venue</th>\n      <th>2nd Most Common Venue</th>\n      <th>3rd Most Common Venue</th>\n      <th>4th Most Common Venue</th>\n      <th>5th Most Common Venue</th>\n      <th>6th Most Common Venue</th>\n      <th>7th Most Common Venue</th>\n      <th>8th Most Common Venue</th>\n      <th>9th Most Common Venue</th>\n      <th>10th Most Common Venue</th>\n    </tr>\n  </thead>\n  <tbody>\n    <tr>\n      <th>0</th>\n      <td>M4N</td>\n      <td>Central Toronto</td>\n      <td>Lawrence Park</td>\n      <td>43.728020</td>\n      <td>-79.388790</td>\n      <td>4</td>\n      <td>Park</td>\n      <td>Swim School</td>\n      <td>Dim Sum Restaurant</td>\n      <td>Bus Line</td>\n      <td>Yoga Studio</td>\n      <td>Fried Chicken Joint</td>\n      <td>Donut Shop</td>\n      <td>Farmers Market</td>\n      <td>Fast Food Restaurant</td>\n      <td>Food &amp; Drink Shop</td>\n    </tr>\n    <tr>\n      <th>1</th>\n      <td>M5N</td>\n      <td>Central Toronto</td>\n      <td>Roselawn</td>\n      <td>43.711695</td>\n      <td>-79.416936</td>\n      <td>1</td>\n      <td>Home Service</td>\n      <td>Garden</td>\n      <td>Dim Sum Restaurant</td>\n      <td>Gym / Fitness Center</td>\n      <td>Gym</td>\n      <td>Greek Restaurant</td>\n      <td>Gourmet Shop</td>\n      <td>Gas Station</td>\n      <td>Furniture / Home Store</td>\n      <td>Fried Chicken Joint</td>\n    </tr>\n    <tr>\n      <th>2</th>\n      <td>M4P</td>\n      <td>Central Toronto</td>\n      <td>Davisville North</td>\n      <td>43.712751</td>\n      <td>-79.390197</td>\n      <td>0</td>\n      <td>Gym</td>\n      <td>Food &amp; Drink Shop</td>\n      <td>Gym / Fitness Center</td>\n      <td>Sandwich Place</td>\n      <td>Department Store</td>\n      <td>Dance Studio</td>\n      <td>Park</td>\n      <td>Pizza Place</td>\n      <td>Breakfast Spot</td>\n      <td>Hotel</td>\n    </tr>\n    <tr>\n      <th>3</th>\n      <td>M5P</td>\n      <td>Central Toronto</td>\n      <td>Forest Hill North &amp; West, Forest Hill Road Park</td>\n      <td>43.696948</td>\n      <td>-79.411307</td>\n      <td>3</td>\n      <td>Sushi Restaurant</td>\n      <td>Trail</td>\n      <td>Park</td>\n      <td>Jewelry Store</td>\n      <td>Fried Chicken Joint</td>\n      <td>Donut Shop</td>\n      <td>Farmers Market</td>\n      <td>Fast Food Restaurant</td>\n      <td>Food &amp; Drink Shop</td>\n      <td>Yoga Studio</td>\n    </tr>\n    <tr>\n      <th>4</th>\n      <td>M4R</td>\n      <td>Central Toronto</td>\n      <td>North Toronto West, Lawrence Park</td>\n      <td>43.715383</td>\n      <td>-79.405678</td>\n      <td>0</td>\n      <td>Clothing Store</td>\n      <td>Coffee Shop</td>\n      <td>Yoga Studio</td>\n      <td>Furniture / Home Store</td>\n      <td>Fast Food Restaurant</td>\n      <td>Mexican Restaurant</td>\n      <td>Park</td>\n      <td>Diner</td>\n      <td>Salon / Barbershop</td>\n      <td>Spa</td>\n    </tr>\n  </tbody>\n</table>\n</div>"
                    },
                    "metadata": {}
                }
            ]
        },
        {
            "metadata": {},
            "cell_type": "markdown",
            "source": "#### Visualize clusters "
        },
        {
            "metadata": {},
            "cell_type": "code",
            "source": "# create map\nmap_clusters = folium.Map(location=[latitude, longitude], zoom_start=11)\n\n# set color scheme for the clusters\nx = np.arange(kclusters)\nys = [i + x + (i*x)**2 for i in range(kclusters)]\ncolors_array = cm.rainbow(np.linspace(0, 1, len(ys)))\nrainbow = [colors.rgb2hex(i) for i in colors_array]\n\n# add markers to the map\nmarkers_colors = []\nfor lat, lon, poi, cluster in zip(merged['Latitude'], merged['Longitude'], merged['Neighborhood'], merged['Cluster Labels']):\n    label = folium.Popup(str(poi) + ' Cluster ' + str(cluster), parse_html=True)\n    folium.CircleMarker(\n        [lat, lon],\n        radius=5,\n        popup=label,\n        color=rainbow[cluster-1],\n        fill=True,\n        fill_color=rainbow[cluster-1],\n        fill_opacity=0.7).add_to(map_clusters)\n       \nmap_clusters ",
            "execution_count": 37,
            "outputs": [
                {
                    "output_type": "error",
                    "ename": "NameError",
                    "evalue": "name 'folium' is not defined",
                    "traceback": [
                        "\u001b[0;31m---------------------------------------------------------------------------\u001b[0m",
                        "\u001b[0;31mNameError\u001b[0m                                 Traceback (most recent call last)",
                        "\u001b[0;32m<ipython-input-37-ddb168a6f189>\u001b[0m in \u001b[0;36m<module>\u001b[0;34m\u001b[0m\n\u001b[1;32m      1\u001b[0m \u001b[0;31m# create map\u001b[0m\u001b[0;34m\u001b[0m\u001b[0;34m\u001b[0m\u001b[0;34m\u001b[0m\u001b[0m\n\u001b[0;32m----> 2\u001b[0;31m \u001b[0mmap_clusters\u001b[0m \u001b[0;34m=\u001b[0m \u001b[0mfolium\u001b[0m\u001b[0;34m.\u001b[0m\u001b[0mMap\u001b[0m\u001b[0;34m(\u001b[0m\u001b[0mlocation\u001b[0m\u001b[0;34m=\u001b[0m\u001b[0;34m[\u001b[0m\u001b[0mlatitude\u001b[0m\u001b[0;34m,\u001b[0m \u001b[0mlongitude\u001b[0m\u001b[0;34m]\u001b[0m\u001b[0;34m,\u001b[0m \u001b[0mzoom_start\u001b[0m\u001b[0;34m=\u001b[0m\u001b[0;36m11\u001b[0m\u001b[0;34m)\u001b[0m\u001b[0;34m\u001b[0m\u001b[0;34m\u001b[0m\u001b[0m\n\u001b[0m\u001b[1;32m      3\u001b[0m \u001b[0;34m\u001b[0m\u001b[0m\n\u001b[1;32m      4\u001b[0m \u001b[0;31m# set color scheme for the clusters\u001b[0m\u001b[0;34m\u001b[0m\u001b[0;34m\u001b[0m\u001b[0;34m\u001b[0m\u001b[0m\n\u001b[1;32m      5\u001b[0m \u001b[0mx\u001b[0m \u001b[0;34m=\u001b[0m \u001b[0mnp\u001b[0m\u001b[0;34m.\u001b[0m\u001b[0marange\u001b[0m\u001b[0;34m(\u001b[0m\u001b[0mkclusters\u001b[0m\u001b[0;34m)\u001b[0m\u001b[0;34m\u001b[0m\u001b[0;34m\u001b[0m\u001b[0m\n",
                        "\u001b[0;31mNameError\u001b[0m: name 'folium' is not defined"
                    ]
                }
            ]
        },
        {
            "metadata": {},
            "cell_type": "markdown",
            "source": "# Examine Clusters "
        },
        {
            "metadata": {},
            "cell_type": "markdown",
            "source": "#### Cluster 1 "
        },
        {
            "metadata": {},
            "cell_type": "code",
            "source": "merged.loc[merged['Cluster Labels'] == 0, merged.columns[[1] + list(range(5, merged.shape[1]))]] ",
            "execution_count": 38,
            "outputs": [
                {
                    "output_type": "execute_result",
                    "execution_count": 38,
                    "data": {
                        "text/plain": "           Borough  Cluster Labels 1st Most Common Venue  \\\n2  Central Toronto               0                   Gym   \n4  Central Toronto               0        Clothing Store   \n5  Central Toronto               0                  Caf\u00e9   \n6  Central Toronto               0          Dessert Shop   \n8  Central Toronto               0                   Pub   \n\n  2nd Most Common Venue 3rd Most Common Venue   4th Most Common Venue  \\\n2     Food & Drink Shop  Gym / Fitness Center          Sandwich Place   \n4           Coffee Shop           Yoga Studio  Furniture / Home Store   \n5        Sandwich Place           Coffee Shop                     Pub   \n6           Pizza Place        Sandwich Place        Sushi Restaurant   \n8           Coffee Shop            Sports Bar     Fried Chicken Joint   \n\n   5th Most Common Venue      6th Most Common Venue 7th Most Common Venue  \\\n2       Department Store               Dance Studio                  Park   \n4   Fast Food Restaurant         Mexican Restaurant                  Park   \n5            Pizza Place  Middle Eastern Restaurant          Liquor Store   \n6     Italian Restaurant                        Gym           Coffee Shop   \n8  Vietnamese Restaurant         Light Rail Station          Liquor Store   \n\n  8th Most Common Venue 9th Most Common Venue 10th Most Common Venue  \n2           Pizza Place        Breakfast Spot                  Hotel  \n4                 Diner    Salon / Barbershop                    Spa  \n5            Donut Shop                  Park      Indian Restaurant  \n6                  Caf\u00e9          Tennis Court            Gas Station  \n8           Pizza Place            Restaurant         Sandwich Place  ",
                        "text/html": "<div>\n<style scoped>\n    .dataframe tbody tr th:only-of-type {\n        vertical-align: middle;\n    }\n\n    .dataframe tbody tr th {\n        vertical-align: top;\n    }\n\n    .dataframe thead th {\n        text-align: right;\n    }\n</style>\n<table border=\"1\" class=\"dataframe\">\n  <thead>\n    <tr style=\"text-align: right;\">\n      <th></th>\n      <th>Borough</th>\n      <th>Cluster Labels</th>\n      <th>1st Most Common Venue</th>\n      <th>2nd Most Common Venue</th>\n      <th>3rd Most Common Venue</th>\n      <th>4th Most Common Venue</th>\n      <th>5th Most Common Venue</th>\n      <th>6th Most Common Venue</th>\n      <th>7th Most Common Venue</th>\n      <th>8th Most Common Venue</th>\n      <th>9th Most Common Venue</th>\n      <th>10th Most Common Venue</th>\n    </tr>\n  </thead>\n  <tbody>\n    <tr>\n      <th>2</th>\n      <td>Central Toronto</td>\n      <td>0</td>\n      <td>Gym</td>\n      <td>Food &amp; Drink Shop</td>\n      <td>Gym / Fitness Center</td>\n      <td>Sandwich Place</td>\n      <td>Department Store</td>\n      <td>Dance Studio</td>\n      <td>Park</td>\n      <td>Pizza Place</td>\n      <td>Breakfast Spot</td>\n      <td>Hotel</td>\n    </tr>\n    <tr>\n      <th>4</th>\n      <td>Central Toronto</td>\n      <td>0</td>\n      <td>Clothing Store</td>\n      <td>Coffee Shop</td>\n      <td>Yoga Studio</td>\n      <td>Furniture / Home Store</td>\n      <td>Fast Food Restaurant</td>\n      <td>Mexican Restaurant</td>\n      <td>Park</td>\n      <td>Diner</td>\n      <td>Salon / Barbershop</td>\n      <td>Spa</td>\n    </tr>\n    <tr>\n      <th>5</th>\n      <td>Central Toronto</td>\n      <td>0</td>\n      <td>Caf\u00e9</td>\n      <td>Sandwich Place</td>\n      <td>Coffee Shop</td>\n      <td>Pub</td>\n      <td>Pizza Place</td>\n      <td>Middle Eastern Restaurant</td>\n      <td>Liquor Store</td>\n      <td>Donut Shop</td>\n      <td>Park</td>\n      <td>Indian Restaurant</td>\n    </tr>\n    <tr>\n      <th>6</th>\n      <td>Central Toronto</td>\n      <td>0</td>\n      <td>Dessert Shop</td>\n      <td>Pizza Place</td>\n      <td>Sandwich Place</td>\n      <td>Sushi Restaurant</td>\n      <td>Italian Restaurant</td>\n      <td>Gym</td>\n      <td>Coffee Shop</td>\n      <td>Caf\u00e9</td>\n      <td>Tennis Court</td>\n      <td>Gas Station</td>\n    </tr>\n    <tr>\n      <th>8</th>\n      <td>Central Toronto</td>\n      <td>0</td>\n      <td>Pub</td>\n      <td>Coffee Shop</td>\n      <td>Sports Bar</td>\n      <td>Fried Chicken Joint</td>\n      <td>Vietnamese Restaurant</td>\n      <td>Light Rail Station</td>\n      <td>Liquor Store</td>\n      <td>Pizza Place</td>\n      <td>Restaurant</td>\n      <td>Sandwich Place</td>\n    </tr>\n  </tbody>\n</table>\n</div>"
                    },
                    "metadata": {}
                }
            ]
        },
        {
            "metadata": {},
            "cell_type": "markdown",
            "source": "#### Cluster 2"
        },
        {
            "metadata": {},
            "cell_type": "code",
            "source": "merged.loc[merged['Cluster Labels'] == 1, merged.columns[[1] + list(range(5, merged.shape[1]))]] ",
            "execution_count": 39,
            "outputs": [
                {
                    "output_type": "execute_result",
                    "execution_count": 39,
                    "data": {
                        "text/plain": "           Borough  Cluster Labels 1st Most Common Venue  \\\n1  Central Toronto               1          Home Service   \n\n  2nd Most Common Venue 3rd Most Common Venue 4th Most Common Venue  \\\n1                Garden    Dim Sum Restaurant  Gym / Fitness Center   \n\n  5th Most Common Venue 6th Most Common Venue 7th Most Common Venue  \\\n1                   Gym      Greek Restaurant          Gourmet Shop   \n\n  8th Most Common Venue   9th Most Common Venue 10th Most Common Venue  \n1           Gas Station  Furniture / Home Store    Fried Chicken Joint  ",
                        "text/html": "<div>\n<style scoped>\n    .dataframe tbody tr th:only-of-type {\n        vertical-align: middle;\n    }\n\n    .dataframe tbody tr th {\n        vertical-align: top;\n    }\n\n    .dataframe thead th {\n        text-align: right;\n    }\n</style>\n<table border=\"1\" class=\"dataframe\">\n  <thead>\n    <tr style=\"text-align: right;\">\n      <th></th>\n      <th>Borough</th>\n      <th>Cluster Labels</th>\n      <th>1st Most Common Venue</th>\n      <th>2nd Most Common Venue</th>\n      <th>3rd Most Common Venue</th>\n      <th>4th Most Common Venue</th>\n      <th>5th Most Common Venue</th>\n      <th>6th Most Common Venue</th>\n      <th>7th Most Common Venue</th>\n      <th>8th Most Common Venue</th>\n      <th>9th Most Common Venue</th>\n      <th>10th Most Common Venue</th>\n    </tr>\n  </thead>\n  <tbody>\n    <tr>\n      <th>1</th>\n      <td>Central Toronto</td>\n      <td>1</td>\n      <td>Home Service</td>\n      <td>Garden</td>\n      <td>Dim Sum Restaurant</td>\n      <td>Gym / Fitness Center</td>\n      <td>Gym</td>\n      <td>Greek Restaurant</td>\n      <td>Gourmet Shop</td>\n      <td>Gas Station</td>\n      <td>Furniture / Home Store</td>\n      <td>Fried Chicken Joint</td>\n    </tr>\n  </tbody>\n</table>\n</div>"
                    },
                    "metadata": {}
                }
            ]
        },
        {
            "metadata": {},
            "cell_type": "markdown",
            "source": "#### Cluster 3 "
        },
        {
            "metadata": {},
            "cell_type": "code",
            "source": "merged.loc[merged['Cluster Labels'] == 2, merged.columns[[1] + list(range(5, merged.shape[1]))]] ",
            "execution_count": 40,
            "outputs": [
                {
                    "output_type": "execute_result",
                    "execution_count": 40,
                    "data": {
                        "text/plain": "           Borough  Cluster Labels 1st Most Common Venue  \\\n7  Central Toronto               2            Restaurant   \n\n  2nd Most Common Venue 3rd Most Common Venue 4th Most Common Venue  \\\n7           Summer Camp            Playground                 Trail   \n\n  5th Most Common Venue 6th Most Common Venue 7th Most Common Venue  \\\n7    Dim Sum Restaurant                 Diner            Donut Shop   \n\n  8th Most Common Venue 9th Most Common Venue 10th Most Common Venue  \n7        Farmers Market  Fast Food Restaurant            Yoga Studio  ",
                        "text/html": "<div>\n<style scoped>\n    .dataframe tbody tr th:only-of-type {\n        vertical-align: middle;\n    }\n\n    .dataframe tbody tr th {\n        vertical-align: top;\n    }\n\n    .dataframe thead th {\n        text-align: right;\n    }\n</style>\n<table border=\"1\" class=\"dataframe\">\n  <thead>\n    <tr style=\"text-align: right;\">\n      <th></th>\n      <th>Borough</th>\n      <th>Cluster Labels</th>\n      <th>1st Most Common Venue</th>\n      <th>2nd Most Common Venue</th>\n      <th>3rd Most Common Venue</th>\n      <th>4th Most Common Venue</th>\n      <th>5th Most Common Venue</th>\n      <th>6th Most Common Venue</th>\n      <th>7th Most Common Venue</th>\n      <th>8th Most Common Venue</th>\n      <th>9th Most Common Venue</th>\n      <th>10th Most Common Venue</th>\n    </tr>\n  </thead>\n  <tbody>\n    <tr>\n      <th>7</th>\n      <td>Central Toronto</td>\n      <td>2</td>\n      <td>Restaurant</td>\n      <td>Summer Camp</td>\n      <td>Playground</td>\n      <td>Trail</td>\n      <td>Dim Sum Restaurant</td>\n      <td>Diner</td>\n      <td>Donut Shop</td>\n      <td>Farmers Market</td>\n      <td>Fast Food Restaurant</td>\n      <td>Yoga Studio</td>\n    </tr>\n  </tbody>\n</table>\n</div>"
                    },
                    "metadata": {}
                }
            ]
        },
        {
            "metadata": {},
            "cell_type": "markdown",
            "source": "#### Cluster 4 "
        },
        {
            "metadata": {},
            "cell_type": "code",
            "source": "merged.loc[merged['Cluster Labels'] == 3, merged.columns[[1] + list(range(5, merged.shape[1]))]] ",
            "execution_count": 41,
            "outputs": [
                {
                    "output_type": "execute_result",
                    "execution_count": 41,
                    "data": {
                        "text/plain": "           Borough  Cluster Labels 1st Most Common Venue  \\\n3  Central Toronto               3      Sushi Restaurant   \n\n  2nd Most Common Venue 3rd Most Common Venue 4th Most Common Venue  \\\n3                 Trail                  Park         Jewelry Store   \n\n  5th Most Common Venue 6th Most Common Venue 7th Most Common Venue  \\\n3   Fried Chicken Joint            Donut Shop        Farmers Market   \n\n  8th Most Common Venue 9th Most Common Venue 10th Most Common Venue  \n3  Fast Food Restaurant     Food & Drink Shop            Yoga Studio  ",
                        "text/html": "<div>\n<style scoped>\n    .dataframe tbody tr th:only-of-type {\n        vertical-align: middle;\n    }\n\n    .dataframe tbody tr th {\n        vertical-align: top;\n    }\n\n    .dataframe thead th {\n        text-align: right;\n    }\n</style>\n<table border=\"1\" class=\"dataframe\">\n  <thead>\n    <tr style=\"text-align: right;\">\n      <th></th>\n      <th>Borough</th>\n      <th>Cluster Labels</th>\n      <th>1st Most Common Venue</th>\n      <th>2nd Most Common Venue</th>\n      <th>3rd Most Common Venue</th>\n      <th>4th Most Common Venue</th>\n      <th>5th Most Common Venue</th>\n      <th>6th Most Common Venue</th>\n      <th>7th Most Common Venue</th>\n      <th>8th Most Common Venue</th>\n      <th>9th Most Common Venue</th>\n      <th>10th Most Common Venue</th>\n    </tr>\n  </thead>\n  <tbody>\n    <tr>\n      <th>3</th>\n      <td>Central Toronto</td>\n      <td>3</td>\n      <td>Sushi Restaurant</td>\n      <td>Trail</td>\n      <td>Park</td>\n      <td>Jewelry Store</td>\n      <td>Fried Chicken Joint</td>\n      <td>Donut Shop</td>\n      <td>Farmers Market</td>\n      <td>Fast Food Restaurant</td>\n      <td>Food &amp; Drink Shop</td>\n      <td>Yoga Studio</td>\n    </tr>\n  </tbody>\n</table>\n</div>"
                    },
                    "metadata": {}
                }
            ]
        },
        {
            "metadata": {},
            "cell_type": "markdown",
            "source": "#### Cluster 5 "
        },
        {
            "metadata": {},
            "cell_type": "code",
            "source": "merged.loc[merged['Cluster Labels'] == 4, merged.columns[[1] + list(range(5, merged.shape[1]))]] ",
            "execution_count": 42,
            "outputs": [
                {
                    "output_type": "execute_result",
                    "execution_count": 42,
                    "data": {
                        "text/plain": "           Borough  Cluster Labels 1st Most Common Venue  \\\n0  Central Toronto               4                  Park   \n\n  2nd Most Common Venue 3rd Most Common Venue 4th Most Common Venue  \\\n0           Swim School    Dim Sum Restaurant              Bus Line   \n\n  5th Most Common Venue 6th Most Common Venue 7th Most Common Venue  \\\n0           Yoga Studio   Fried Chicken Joint            Donut Shop   \n\n  8th Most Common Venue 9th Most Common Venue 10th Most Common Venue  \n0        Farmers Market  Fast Food Restaurant      Food & Drink Shop  ",
                        "text/html": "<div>\n<style scoped>\n    .dataframe tbody tr th:only-of-type {\n        vertical-align: middle;\n    }\n\n    .dataframe tbody tr th {\n        vertical-align: top;\n    }\n\n    .dataframe thead th {\n        text-align: right;\n    }\n</style>\n<table border=\"1\" class=\"dataframe\">\n  <thead>\n    <tr style=\"text-align: right;\">\n      <th></th>\n      <th>Borough</th>\n      <th>Cluster Labels</th>\n      <th>1st Most Common Venue</th>\n      <th>2nd Most Common Venue</th>\n      <th>3rd Most Common Venue</th>\n      <th>4th Most Common Venue</th>\n      <th>5th Most Common Venue</th>\n      <th>6th Most Common Venue</th>\n      <th>7th Most Common Venue</th>\n      <th>8th Most Common Venue</th>\n      <th>9th Most Common Venue</th>\n      <th>10th Most Common Venue</th>\n    </tr>\n  </thead>\n  <tbody>\n    <tr>\n      <th>0</th>\n      <td>Central Toronto</td>\n      <td>4</td>\n      <td>Park</td>\n      <td>Swim School</td>\n      <td>Dim Sum Restaurant</td>\n      <td>Bus Line</td>\n      <td>Yoga Studio</td>\n      <td>Fried Chicken Joint</td>\n      <td>Donut Shop</td>\n      <td>Farmers Market</td>\n      <td>Fast Food Restaurant</td>\n      <td>Food &amp; Drink Shop</td>\n    </tr>\n  </tbody>\n</table>\n</div>"
                    },
                    "metadata": {}
                }
            ]
        },
        {
            "metadata": {},
            "cell_type": "code",
            "source": "",
            "execution_count": null,
            "outputs": []
        }
    ],
    "metadata": {
        "kernelspec": {
            "name": "python3",
            "display_name": "Python 3.6",
            "language": "python"
        },
        "language_info": {
            "name": "python",
            "version": "3.6.9",
            "mimetype": "text/x-python",
            "codemirror_mode": {
                "name": "ipython",
                "version": 3
            },
            "pygments_lexer": "ipython3",
            "nbconvert_exporter": "python",
            "file_extension": ".py"
        }
    },
    "nbformat": 4,
    "nbformat_minor": 1
}